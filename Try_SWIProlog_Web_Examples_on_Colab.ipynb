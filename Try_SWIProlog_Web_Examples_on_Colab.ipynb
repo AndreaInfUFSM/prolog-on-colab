{
  "nbformat": 4,
  "nbformat_minor": 0,
  "metadata": {
    "colab": {
      "name": "Try-SWIProlog-Web-Examples-on-Colab.ipynb",
      "provenance": [],
      "toc_visible": true
    },
    "kernelspec": {
      "name": "python3",
      "display_name": "Python 3"
    },
    "language_info": {
      "name": "python"
    }
  },
  "cells": [
    {
      "cell_type": "markdown",
      "source": [
        "*This notebook is part of the [Programming Paradigms](https://www.ufsm.br/ementario/disciplinas/ELC117/) course offered by Professor Andrea Schwertner Charão, from the [Department of Languages and Computer Systems](https://www.ufsm.br/unidades-universitarias/ct/departamentos/dlsc/equipe) at the [Federal University of Santa Maria](http://www.ufsm.br), Brazil.*"
      ],
      "metadata": {
        "id": "9mC1cSTT-RwH"
      }
    },
    {
      "cell_type": "markdown",
      "source": [
        "<img align=\"right\" style=\"padding-right:10px;\" width=\"100px\" src=\"https://www.swi-prolog.org/icons/swipl.png\">\n",
        "\n",
        "# Try Prolog Web Examples on Google Colab!\n"
      ],
      "metadata": {
        "id": "V4uz5FaP6a1U"
      }
    },
    {
      "cell_type": "markdown",
      "source": [
        "Prolog is not a popular language for Web applications (clients/servers), but you might be surprised at how easily this can be done with the help of a few libraries included in [SWI-Prolog](https://www.swi-prolog.org/). There are great tutorials on this subject, usually focused on running Prolog on localhost. One might be tempted to use [SWISH](https://swish.swi-prolog.org/), the amazing web based environment for running SWI-Prolog on the cloud, but its sandboxing security mechanism prevents programs to transfer HTTP requests/responses. Fortunately, we can try this on Google Colab!"
      ],
      "metadata": {
        "id": "YtQLL3zZATyT"
      }
    },
    {
      "cell_type": "markdown",
      "source": [
        "## Installing SWI-Prolog"
      ],
      "metadata": {
        "id": "6DL8kTp_HTxz"
      }
    },
    {
      "cell_type": "markdown",
      "source": [
        "Google Colab doesn't have SWI-Prolog installed, but this can be easily done."
      ],
      "metadata": {
        "id": "mflJR1TGIk6d"
      }
    },
    {
      "cell_type": "code",
      "source": [
        "!apt install swi-prolog"
      ],
      "metadata": {
        "colab": {
          "base_uri": "https://localhost:8080/"
        },
        "id": "GMIT507uI_Gw",
        "outputId": "dde24452-d3b0-4c7d-9fbf-6ee11fc5022f"
      },
      "execution_count": null,
      "outputs": [
        {
          "output_type": "stream",
          "name": "stdout",
          "text": [
            "Reading package lists... Done\n",
            "Building dependency tree       \n",
            "Reading state information... Done\n",
            "The following package was automatically installed and is no longer required:\n",
            "  libnvidia-common-460\n",
            "Use 'apt autoremove' to remove it.\n",
            "The following additional packages will be installed:\n",
            "  autoconf automake autopoint autotools-dev debhelper dh-autoreconf\n",
            "  dh-strip-nondeterminism file gettext gettext-base intltool-debian\n",
            "  javascript-common libarchive-cpio-perl libarchive-zip-perl libbsd-dev\n",
            "  libedit-dev libfile-stripnondeterminism-perl libgmp-dev libgmpxx4ldbl\n",
            "  libjs-jquery libmagic-mgc libmagic1 libmail-sendmail-perl libncursesw5-dev\n",
            "  libossp-uuid16 libsigsegv2 libsys-hostname-long-perl libtimedate-perl\n",
            "  libtool m4 po-debconf swi-prolog-nox swi-prolog-x\n",
            "Suggested packages:\n",
            "  autoconf-archive gnu-standards autoconf-doc dh-make dwz gettext-doc\n",
            "  libasprintf-dev libgettextpo-dev apache2 | lighttpd | httpd gmp-doc\n",
            "  libgmp10-doc libmpfr-dev ncurses-doc uuid libtool-doc gcj-jdk m4-doc\n",
            "  libmail-box-perl elpa-ediprolog\n",
            "The following NEW packages will be installed:\n",
            "  autoconf automake autopoint autotools-dev debhelper dh-autoreconf\n",
            "  dh-strip-nondeterminism file gettext gettext-base intltool-debian\n",
            "  javascript-common libarchive-cpio-perl libarchive-zip-perl libbsd-dev\n",
            "  libedit-dev libfile-stripnondeterminism-perl libgmp-dev libgmpxx4ldbl\n",
            "  libjs-jquery libmagic-mgc libmagic1 libmail-sendmail-perl libncursesw5-dev\n",
            "  libossp-uuid16 libsigsegv2 libsys-hostname-long-perl libtimedate-perl\n",
            "  libtool m4 po-debconf swi-prolog swi-prolog-nox swi-prolog-x\n",
            "0 upgraded, 34 newly installed, 0 to remove and 45 not upgraded.\n",
            "Need to get 11.1 MB of archives.\n",
            "After this operation, 57.1 MB of additional disk space will be used.\n",
            "Get:1 http://archive.ubuntu.com/ubuntu bionic-updates/main amd64 libmagic-mgc amd64 1:5.32-2ubuntu0.4 [184 kB]\n",
            "Get:2 http://archive.ubuntu.com/ubuntu bionic-updates/main amd64 libmagic1 amd64 1:5.32-2ubuntu0.4 [68.6 kB]\n",
            "Get:3 http://archive.ubuntu.com/ubuntu bionic-updates/main amd64 file amd64 1:5.32-2ubuntu0.4 [22.1 kB]\n",
            "Get:4 http://archive.ubuntu.com/ubuntu bionic-updates/main amd64 gettext-base amd64 0.19.8.1-6ubuntu0.3 [113 kB]\n",
            "Get:5 http://archive.ubuntu.com/ubuntu bionic/main amd64 libsigsegv2 amd64 2.12-1 [14.7 kB]\n",
            "Get:6 http://archive.ubuntu.com/ubuntu bionic/main amd64 m4 amd64 1.4.18-1 [197 kB]\n",
            "Get:7 http://archive.ubuntu.com/ubuntu bionic/main amd64 autoconf all 2.69-11 [322 kB]\n",
            "Get:8 http://archive.ubuntu.com/ubuntu bionic/main amd64 autotools-dev all 20180224.1 [39.6 kB]\n",
            "Get:9 http://archive.ubuntu.com/ubuntu bionic/main amd64 automake all 1:1.15.1-3ubuntu2 [509 kB]\n",
            "Get:10 http://archive.ubuntu.com/ubuntu bionic-updates/main amd64 autopoint all 0.19.8.1-6ubuntu0.3 [426 kB]\n",
            "Get:11 http://archive.ubuntu.com/ubuntu bionic/main amd64 libtool all 2.4.6-2 [194 kB]\n",
            "Get:12 http://archive.ubuntu.com/ubuntu bionic/main amd64 dh-autoreconf all 17 [15.8 kB]\n",
            "Get:13 http://archive.ubuntu.com/ubuntu bionic-updates/main amd64 libarchive-zip-perl all 1.60-1ubuntu0.1 [84.6 kB]\n",
            "Get:14 http://archive.ubuntu.com/ubuntu bionic/main amd64 libfile-stripnondeterminism-perl all 0.040-1.1~build1 [13.8 kB]\n",
            "Get:15 http://archive.ubuntu.com/ubuntu bionic/main amd64 libtimedate-perl all 2.3000-2 [37.5 kB]\n",
            "Get:16 http://archive.ubuntu.com/ubuntu bionic/main amd64 dh-strip-nondeterminism all 0.040-1.1~build1 [5,208 B]\n",
            "Get:17 http://archive.ubuntu.com/ubuntu bionic-updates/main amd64 gettext amd64 0.19.8.1-6ubuntu0.3 [1,293 kB]\n",
            "Get:18 http://archive.ubuntu.com/ubuntu bionic/main amd64 intltool-debian all 0.35.0+20060710.4 [24.9 kB]\n",
            "Get:19 http://archive.ubuntu.com/ubuntu bionic/main amd64 po-debconf all 1.0.20 [232 kB]\n",
            "Get:20 http://archive.ubuntu.com/ubuntu bionic-updates/main amd64 debhelper all 11.1.6ubuntu2 [902 kB]\n",
            "Get:21 http://archive.ubuntu.com/ubuntu bionic/main amd64 javascript-common all 11 [6,066 B]\n",
            "Get:22 http://archive.ubuntu.com/ubuntu bionic/main amd64 libarchive-cpio-perl all 0.10-1 [9,644 B]\n",
            "Get:23 http://archive.ubuntu.com/ubuntu bionic-updates/main amd64 libbsd-dev amd64 0.8.7-1ubuntu0.1 [150 kB]\n",
            "Get:24 http://archive.ubuntu.com/ubuntu bionic/main amd64 libedit-dev amd64 3.1-20170329-1 [99.1 kB]\n",
            "Get:25 http://archive.ubuntu.com/ubuntu bionic/main amd64 libgmpxx4ldbl amd64 2:6.1.2+dfsg-2 [8,964 B]\n",
            "Get:26 http://archive.ubuntu.com/ubuntu bionic/main amd64 libgmp-dev amd64 2:6.1.2+dfsg-2 [316 kB]\n",
            "Get:27 http://archive.ubuntu.com/ubuntu bionic/main amd64 libjs-jquery all 3.2.1-1 [152 kB]\n",
            "Get:28 http://archive.ubuntu.com/ubuntu bionic/main amd64 libsys-hostname-long-perl all 1.5-1 [11.7 kB]\n",
            "Get:29 http://archive.ubuntu.com/ubuntu bionic/main amd64 libmail-sendmail-perl all 0.80-1 [22.6 kB]\n",
            "Get:30 http://archive.ubuntu.com/ubuntu bionic-updates/main amd64 libncursesw5-dev amd64 6.1-1ubuntu1.18.04 [199 kB]\n",
            "Get:31 http://archive.ubuntu.com/ubuntu bionic/universe amd64 libossp-uuid16 amd64 1.6.2-1.5build4 [29.0 kB]\n",
            "Get:32 http://archive.ubuntu.com/ubuntu bionic/universe amd64 swi-prolog-nox amd64 7.6.4+dfsg-1build1 [3,352 kB]\n",
            "Get:33 http://archive.ubuntu.com/ubuntu bionic/universe amd64 swi-prolog-x amd64 7.6.4+dfsg-1build1 [2,010 kB]\n",
            "Get:34 http://archive.ubuntu.com/ubuntu bionic/universe amd64 swi-prolog amd64 7.6.4+dfsg-1build1 [15.3 kB]\n",
            "Fetched 11.1 MB in 3s (3,198 kB/s)\n",
            "Extracting templates from packages: 100%\n",
            "Selecting previously unselected package libmagic-mgc.\n",
            "(Reading database ... 155632 files and directories currently installed.)\n",
            "Preparing to unpack .../00-libmagic-mgc_1%3a5.32-2ubuntu0.4_amd64.deb ...\n",
            "Unpacking libmagic-mgc (1:5.32-2ubuntu0.4) ...\n",
            "Selecting previously unselected package libmagic1:amd64.\n",
            "Preparing to unpack .../01-libmagic1_1%3a5.32-2ubuntu0.4_amd64.deb ...\n",
            "Unpacking libmagic1:amd64 (1:5.32-2ubuntu0.4) ...\n",
            "Selecting previously unselected package file.\n",
            "Preparing to unpack .../02-file_1%3a5.32-2ubuntu0.4_amd64.deb ...\n",
            "Unpacking file (1:5.32-2ubuntu0.4) ...\n",
            "Selecting previously unselected package gettext-base.\n",
            "Preparing to unpack .../03-gettext-base_0.19.8.1-6ubuntu0.3_amd64.deb ...\n",
            "Unpacking gettext-base (0.19.8.1-6ubuntu0.3) ...\n",
            "Selecting previously unselected package libsigsegv2:amd64.\n",
            "Preparing to unpack .../04-libsigsegv2_2.12-1_amd64.deb ...\n",
            "Unpacking libsigsegv2:amd64 (2.12-1) ...\n",
            "Selecting previously unselected package m4.\n",
            "Preparing to unpack .../05-m4_1.4.18-1_amd64.deb ...\n",
            "Unpacking m4 (1.4.18-1) ...\n",
            "Selecting previously unselected package autoconf.\n",
            "Preparing to unpack .../06-autoconf_2.69-11_all.deb ...\n",
            "Unpacking autoconf (2.69-11) ...\n",
            "Selecting previously unselected package autotools-dev.\n",
            "Preparing to unpack .../07-autotools-dev_20180224.1_all.deb ...\n",
            "Unpacking autotools-dev (20180224.1) ...\n",
            "Selecting previously unselected package automake.\n",
            "Preparing to unpack .../08-automake_1%3a1.15.1-3ubuntu2_all.deb ...\n",
            "Unpacking automake (1:1.15.1-3ubuntu2) ...\n",
            "Selecting previously unselected package autopoint.\n",
            "Preparing to unpack .../09-autopoint_0.19.8.1-6ubuntu0.3_all.deb ...\n",
            "Unpacking autopoint (0.19.8.1-6ubuntu0.3) ...\n",
            "Selecting previously unselected package libtool.\n",
            "Preparing to unpack .../10-libtool_2.4.6-2_all.deb ...\n",
            "Unpacking libtool (2.4.6-2) ...\n",
            "Selecting previously unselected package dh-autoreconf.\n",
            "Preparing to unpack .../11-dh-autoreconf_17_all.deb ...\n",
            "Unpacking dh-autoreconf (17) ...\n",
            "Selecting previously unselected package libarchive-zip-perl.\n",
            "Preparing to unpack .../12-libarchive-zip-perl_1.60-1ubuntu0.1_all.deb ...\n",
            "Unpacking libarchive-zip-perl (1.60-1ubuntu0.1) ...\n",
            "Selecting previously unselected package libfile-stripnondeterminism-perl.\n",
            "Preparing to unpack .../13-libfile-stripnondeterminism-perl_0.040-1.1~build1_all.deb ...\n",
            "Unpacking libfile-stripnondeterminism-perl (0.040-1.1~build1) ...\n",
            "Selecting previously unselected package libtimedate-perl.\n",
            "Preparing to unpack .../14-libtimedate-perl_2.3000-2_all.deb ...\n",
            "Unpacking libtimedate-perl (2.3000-2) ...\n",
            "Selecting previously unselected package dh-strip-nondeterminism.\n",
            "Preparing to unpack .../15-dh-strip-nondeterminism_0.040-1.1~build1_all.deb ...\n",
            "Unpacking dh-strip-nondeterminism (0.040-1.1~build1) ...\n",
            "Selecting previously unselected package gettext.\n",
            "Preparing to unpack .../16-gettext_0.19.8.1-6ubuntu0.3_amd64.deb ...\n",
            "Unpacking gettext (0.19.8.1-6ubuntu0.3) ...\n",
            "Selecting previously unselected package intltool-debian.\n",
            "Preparing to unpack .../17-intltool-debian_0.35.0+20060710.4_all.deb ...\n",
            "Unpacking intltool-debian (0.35.0+20060710.4) ...\n",
            "Selecting previously unselected package po-debconf.\n",
            "Preparing to unpack .../18-po-debconf_1.0.20_all.deb ...\n",
            "Unpacking po-debconf (1.0.20) ...\n",
            "Selecting previously unselected package debhelper.\n",
            "Preparing to unpack .../19-debhelper_11.1.6ubuntu2_all.deb ...\n",
            "Unpacking debhelper (11.1.6ubuntu2) ...\n",
            "Selecting previously unselected package javascript-common.\n",
            "Preparing to unpack .../20-javascript-common_11_all.deb ...\n",
            "Unpacking javascript-common (11) ...\n",
            "Selecting previously unselected package libarchive-cpio-perl.\n",
            "Preparing to unpack .../21-libarchive-cpio-perl_0.10-1_all.deb ...\n",
            "Unpacking libarchive-cpio-perl (0.10-1) ...\n",
            "Selecting previously unselected package libbsd-dev:amd64.\n",
            "Preparing to unpack .../22-libbsd-dev_0.8.7-1ubuntu0.1_amd64.deb ...\n",
            "Unpacking libbsd-dev:amd64 (0.8.7-1ubuntu0.1) ...\n",
            "Selecting previously unselected package libedit-dev:amd64.\n",
            "Preparing to unpack .../23-libedit-dev_3.1-20170329-1_amd64.deb ...\n",
            "Unpacking libedit-dev:amd64 (3.1-20170329-1) ...\n",
            "Selecting previously unselected package libgmpxx4ldbl:amd64.\n",
            "Preparing to unpack .../24-libgmpxx4ldbl_2%3a6.1.2+dfsg-2_amd64.deb ...\n",
            "Unpacking libgmpxx4ldbl:amd64 (2:6.1.2+dfsg-2) ...\n",
            "Selecting previously unselected package libgmp-dev:amd64.\n",
            "Preparing to unpack .../25-libgmp-dev_2%3a6.1.2+dfsg-2_amd64.deb ...\n",
            "Unpacking libgmp-dev:amd64 (2:6.1.2+dfsg-2) ...\n",
            "Selecting previously unselected package libjs-jquery.\n",
            "Preparing to unpack .../26-libjs-jquery_3.2.1-1_all.deb ...\n",
            "Unpacking libjs-jquery (3.2.1-1) ...\n",
            "Selecting previously unselected package libsys-hostname-long-perl.\n",
            "Preparing to unpack .../27-libsys-hostname-long-perl_1.5-1_all.deb ...\n",
            "Unpacking libsys-hostname-long-perl (1.5-1) ...\n",
            "Selecting previously unselected package libmail-sendmail-perl.\n",
            "Preparing to unpack .../28-libmail-sendmail-perl_0.80-1_all.deb ...\n",
            "Unpacking libmail-sendmail-perl (0.80-1) ...\n",
            "Selecting previously unselected package libncursesw5-dev:amd64.\n",
            "Preparing to unpack .../29-libncursesw5-dev_6.1-1ubuntu1.18.04_amd64.deb ...\n",
            "Unpacking libncursesw5-dev:amd64 (6.1-1ubuntu1.18.04) ...\n",
            "Selecting previously unselected package libossp-uuid16:amd64.\n",
            "Preparing to unpack .../30-libossp-uuid16_1.6.2-1.5build4_amd64.deb ...\n",
            "Unpacking libossp-uuid16:amd64 (1.6.2-1.5build4) ...\n",
            "Selecting previously unselected package swi-prolog-nox.\n",
            "Preparing to unpack .../31-swi-prolog-nox_7.6.4+dfsg-1build1_amd64.deb ...\n",
            "Unpacking swi-prolog-nox (7.6.4+dfsg-1build1) ...\n",
            "Selecting previously unselected package swi-prolog-x.\n",
            "Preparing to unpack .../32-swi-prolog-x_7.6.4+dfsg-1build1_amd64.deb ...\n",
            "Unpacking swi-prolog-x (7.6.4+dfsg-1build1) ...\n",
            "Selecting previously unselected package swi-prolog.\n",
            "Preparing to unpack .../33-swi-prolog_7.6.4+dfsg-1build1_amd64.deb ...\n",
            "Unpacking swi-prolog (7.6.4+dfsg-1build1) ...\n",
            "Setting up libjs-jquery (3.2.1-1) ...\n",
            "Setting up libarchive-zip-perl (1.60-1ubuntu0.1) ...\n",
            "Setting up libtimedate-perl (2.3000-2) ...\n",
            "Setting up libsigsegv2:amd64 (2.12-1) ...\n",
            "Setting up libbsd-dev:amd64 (0.8.7-1ubuntu0.1) ...\n",
            "Setting up libossp-uuid16:amd64 (1.6.2-1.5build4) ...\n",
            "Setting up libarchive-cpio-perl (0.10-1) ...\n",
            "Setting up gettext-base (0.19.8.1-6ubuntu0.3) ...\n",
            "Setting up m4 (1.4.18-1) ...\n",
            "Setting up libmagic-mgc (1:5.32-2ubuntu0.4) ...\n",
            "Setting up libmagic1:amd64 (1:5.32-2ubuntu0.4) ...\n",
            "Setting up libsys-hostname-long-perl (1.5-1) ...\n",
            "Setting up libmail-sendmail-perl (0.80-1) ...\n",
            "Setting up autotools-dev (20180224.1) ...\n",
            "Setting up libncursesw5-dev:amd64 (6.1-1ubuntu1.18.04) ...\n",
            "Setting up libedit-dev:amd64 (3.1-20170329-1) ...\n",
            "Setting up javascript-common (11) ...\n",
            "Setting up libgmpxx4ldbl:amd64 (2:6.1.2+dfsg-2) ...\n",
            "Setting up autopoint (0.19.8.1-6ubuntu0.3) ...\n",
            "Setting up libfile-stripnondeterminism-perl (0.040-1.1~build1) ...\n",
            "Setting up libgmp-dev:amd64 (2:6.1.2+dfsg-2) ...\n",
            "Setting up gettext (0.19.8.1-6ubuntu0.3) ...\n",
            "Setting up autoconf (2.69-11) ...\n",
            "Setting up file (1:5.32-2ubuntu0.4) ...\n",
            "Setting up swi-prolog-nox (7.6.4+dfsg-1build1) ...\n",
            "update-alternatives: using /usr/bin/swipl to provide /usr/bin/prolog (prolog) in auto mode\n",
            "Setting up intltool-debian (0.35.0+20060710.4) ...\n",
            "Setting up automake (1:1.15.1-3ubuntu2) ...\n",
            "update-alternatives: using /usr/bin/automake-1.15 to provide /usr/bin/automake (automake) in auto mode\n",
            "Setting up libtool (2.4.6-2) ...\n",
            "Setting up po-debconf (1.0.20) ...\n",
            "Setting up swi-prolog-x (7.6.4+dfsg-1build1) ...\n",
            "Setting up swi-prolog (7.6.4+dfsg-1build1) ...\n",
            "Setting up debhelper (11.1.6ubuntu2) ...\n",
            "Setting up dh-autoreconf (17) ...\n",
            "Setting up dh-strip-nondeterminism (0.040-1.1~build1) ...\n",
            "Processing triggers for libc-bin (2.27-3ubuntu1.3) ...\n",
            "/sbin/ldconfig.real: /usr/local/lib/python3.7/dist-packages/ideep4py/lib/libmkldnn.so.0 is not a symbolic link\n",
            "\n",
            "Processing triggers for man-db (2.8.3-2ubuntu0.1) ...\n"
          ]
        }
      ]
    },
    {
      "cell_type": "markdown",
      "source": [
        "🟥 You will have to reinstall SWI-Prolog every time Google Colab disconnect you from a Runtime! Fortunately, the installation does not take long."
      ],
      "metadata": {
        "id": "cuR9ZCMYJDSH"
      }
    },
    {
      "cell_type": "markdown",
      "source": [
        "## Running HTTP clients"
      ],
      "metadata": {
        "id": "Qv6D2299IOEt"
      }
    },
    {
      "cell_type": "markdown",
      "source": [
        "Let's try a few example HTTP clients."
      ],
      "metadata": {
        "id": "ZD_3c647A5K-"
      }
    },
    {
      "cell_type": "markdown",
      "source": [
        "### Example from SWI-Prolog docs\n",
        "\n",
        "The [SWI-Prolog HTTP Support](https://www.swi-prolog.org/pldoc/doc_for?object=section(%27packages/http.html%27)) documentation provides many examples. Let's try one from https://www.swi-prolog.org/pldoc/man?section=http-clients - a simple example to fetch a web-page resulting from a Google search. This example uses the `http_open` library.\n",
        "\n",
        "First we have to save our Prolog code:"
      ],
      "metadata": {
        "id": "Wqf8aF7WKdQJ"
      }
    },
    {
      "cell_type": "code",
      "source": [
        "%%writefile client.pl\n",
        "% https://www.swi-prolog.org/pldoc/man?section=http-clients\n",
        ":- use_module(library(http/http_open)).\n",
        "\n",
        "main :-\n",
        "  http_open('http://www.google.com/search?q=prolog', In, []),\n",
        "  copy_stream_data(In, user_output), \n",
        "  close(In)."
      ],
      "metadata": {
        "colab": {
          "base_uri": "https://localhost:8080/"
        },
        "id": "FM4ITTcpMFIY",
        "outputId": "2dfb7462-feba-4f6a-ba4e-514674002b19"
      },
      "execution_count": null,
      "outputs": [
        {
          "output_type": "stream",
          "name": "stdout",
          "text": [
            "Writing client.pl\n"
          ]
        }
      ]
    },
    {
      "cell_type": "markdown",
      "source": [
        "Then we'll be able to run our client:"
      ],
      "metadata": {
        "id": "BZ_Jb48uKo56"
      }
    },
    {
      "cell_type": "code",
      "source": [
        "!swipl -s client.pl -t \"main\""
      ],
      "metadata": {
        "colab": {
          "base_uri": "https://localhost:8080/"
        },
        "id": "h7Z6a_seMwb2",
        "outputId": "43fb7364-bc17-4dab-b238-542baa63f4f2"
      },
      "execution_count": null,
      "outputs": [
        {
          "output_type": "stream",
          "name": "stdout",
          "text": [
            "Welcome to SWI-Prolog (threaded, 64 bits, version 7.6.4)\n",
            "SWI-Prolog comes with ABSOLUTELY NO WARRANTY. This is free software.\n",
            "Please run ?- license. for legal details.\n",
            "\n",
            "For online help and background, visit http://www.swi-prolog.org\n",
            "For built-in help, use ?- help(Topic). or ?- apropos(Word).\n",
            "\n",
            "<!doctype html><html lang=\"zh-TW\"><head><meta charset=\"UTF-8\"><meta content=\"/images/branding/googleg/1x/googleg_standard_color_128dp.png\" itemprop=\"image\"><title>prolog - Google &#25628;&#23563;</title><script nonce=\"aoZpBMd2ipdtNY5Hv-vXgA\">(function(){\n",
            "document.documentElement.addEventListener(\"submit\",function(b){var a;if(a=b.target){var c=a.getAttribute(\"data-submitfalse\");a=\"1\"===c||\"q\"===c&&!a.elements.q.value?!0:!1}else a=!1;a&&(b.preventDefault(),b.stopPropagation())},!0);document.documentElement.addEventListener(\"click\",function(b){var a;a:{for(a=b.target;a&&a!==document.documentElement;a=a.parentElement)if(\"A\"===a.tagName){a=\"1\"===a.getAttribute(\"data-nohref\");break a}a=!1}a&&b.preventDefault()},!0);}).call(this);(function(){\n",
            "var a=window.performance;window.start=Date.now();a:{var b=window;if(a){var c=a.timing;if(c){var d=c.navigationStart,f=c.responseStart;if(f>d&&f<=window.start){window.start=f;b.wsrt=f-d;break a}}a.now&&(b.wsrt=Math.floor(a.now()))}}window.google=window.google||{};var h=function(g){g&&g.target.setAttribute(\"data-iml\",Date.now())};document.documentElement.addEventListener(\"load\",h,!0);google.rglh=function(){document.documentElement.removeEventListener(\"load\",h,!0)};}).call(this);(function(){window.google.erd={jsr:1,bv:1595,de:true};})();(function(){var sdo=false;var mei=10;\n",
            "var f=this||self;var g,h=null!=(g=f.mei)?g:1,m,n=null!=(m=f.sdo)?m:!0,p=0,q,r=google.erd,u=r.jsr;google.ml=function(a,b,d,k,c){c=void 0===c?2:c;b&&(q=a&&a.message);if(google.dl)return google.dl(a,c,d),null;if(0>u){window.console&&console.error(a,d);if(-2===u)throw a;b=!1}else b=!a||!a.message||\"Error loading script\"===a.message||p>=h&&!k?!1:!0;if(!b)return null;p++;d=d||{};var e=c;c=encodeURIComponent;b=\"/gen_204?atyp=i&ei=\"+c(google.kEI);google.kEXPI&&(b+=\"&jexpid=\"+c(google.kEXPI));b+=\"&srcpg=\"+c(google.sn)+\"&jsr=\"+c(r.jsr)+\"&bver=\"+c(r.bv)+(\"&jsel=\"+e);e=a.lineNumber;void 0!==e&&(b+=\"&line=\"+\n",
            "e);var l=a.fileName;l&&(b+=\"&script=\"+c(l),e&&l===window.location.href&&(e=document.documentElement.outerHTML.split(\"\\n\")[e],b+=\"&cad=\"+c(e?e.substring(0,300):\"No script found.\")));for(var t in d)b+=\"&\",b+=c(t),b+=\"=\",b+=c(d[t]);b=b+\"&emsg=\"+c(a.name+\": \"+a.message);b=b+\"&jsst=\"+c(a.stack||\"N/A\");12288<=b.length&&(b=b.substr(0,12288));a=b;k||google.log(0,\"\",a);return a};window.onerror=function(a,b,d,k,c){q!==a&&(a=c instanceof Error?c:Error(a),void 0===d||\"lineNumber\"in a||(a.lineNumber=d),void 0===b||\"fileName\"in a||(a.fileName=b),google.ml(a,!1,void 0,!1,\"SyntaxError\"===a.name||\"SyntaxError\"===a.message.substring(0,11)?2:0));q=null;n&&p>=h&&(window.onerror=null)};})();(function(){\n",
            "var c=[],e=0;window.ping=function(b){-1==b.indexOf(\"&zx\")&&(b+=\"&zx=\"+Date.now());var a=new Image,d=e++;c[d]=a;a.onerror=a.onload=a.onabort=function(){delete c[d]};a.src=b};}).call(this);</script><style>body{margin:0 auto;max-width:652px;padding:0 8px;}a{color:#1a0dab;text-decoration:none;tap-highlight-color:rgba(0,0,0,.10)}a:visited{color:#4b11a8}a:hover{text-decoration:underline}img{border:0}html{font-family:Roboto,Helvetica Neue,Arial,sans-serif;font-size:14px;line-height:20px;text-size-adjust:100%;color:#3c4043;word-wrap:break-word;background-color:#fff}.bRsWnc{background-color:#fff;border-top:1px solid #dadce0;height:39px;overflow:hidden}.N6RWV{height:51px;overflow-scrolling:touch;overflow-x:auto;overflow-y:hidden}.Uv67qb{box-pack:justify;font-size:12px;line-height:37px;justify-content:space-between;justify-content:space-between}.Uv67qb a,.Uv67qb span{color:#70757a;display:block;flex:none;padding:0 16px;text-align:center;text-transform:uppercase;}span.OXXup{border-bottom:2px solid #4285f4;color:#4285f4;font-weight:bold}a.eZt8xd:visited{color:#70757a}.FElbsf{border-left:1px solid rgba(0,0,0,.12)}header article{overflow:visible}.Pg70bf{height:39px;display:box;display:flex;display:flex;width:100%}.H0PQec{position:relative;flex:1}.sbc{display:flex;width:100%}.Pg70bf input{margin:2px 4px 2px 8px;}.x{width:26px;color:#70757a;font:27px/38px arial, sans-serif;line-height:40px;}#qdClwb{flex:0 0 auto;width:39px;height:39px;border-bottom:0;padding:0;border-top-right-radius:8px;background-color:#1a73e8;border:1px solid #1558d6;background-image:url(data:image/gif;base64,R0lGODdhJAAjAPIHAODr/nCk+MPZ/FmV96zK+/7+/5K5+kqL9iwAAAAAJAAjAEADani63P4wykmbKcQRXDscQAEMXmmeaLQVLCukzyC09AjfeK7v/MAajACLhPMVAgwjsUcEiZa8xgAYrVqv2Kx2iwsIAAABknfBBAKrTE4IcMyot8ur8datqIbQfJdnAfo2WE6BV05wXIiJigkAOw==);}.sc{font-size:16px;position:absolute;top:39px;left:0;right:0;box-shadow:0px 2px 5px rgba(0,0,0,.2);z-index:2;background-color:#fff}.sc>div{padding:10px 10px;padding-left:16px;padding-left:14px;border-top:1px solid #dfe1e5}.scs{background-color:#f8f9fa;}.noHIxc{display:block;font-size:16px;padding:0 0 0 8px;flex:1;height:35px;outline:none;border:none;width:100%;-webkit-tap-highlight-color:rgba(0,0,0,.00);overflow:hidden;}.sbc input[type=text]{background:none}.sml .cOl4Id{display:none}.l{display:none}.sml header{background:none}.sml .l{display:block;padding:0 8px}.sml .l{letter-spacing:-1px;text-align:center;border-radius:2px 0 0 0;font:22px/36px Futura, Arial, sans-serif;font-smoothing:antialiased}.bz1lBb{background:#fff;border-radius:8px 8px 0 0;box-shadow:0 0 0 1px #dfe1e5;margin-top:24px;}.KP7LCb{border-radius:0 0 8px 8px;box-shadow:0px 1px 0px 1px #dfe1e5;margin-bottom:30px;overflow:hidden}body{margin:0 auto 0 156px;max-width:652px;min-width:652px}.cOl4Id{letter-spacing:-1px;text-align:center;font:22pt Futura, Arial, sans-serif;height:37px;font-smoothing:antialiased;padding:32px 28px 0 24px;position:absolute;left:0;top:0}.cOl4Id span{display:inline-block}.V6gwVd{color:#4285f4}.iWkuvd{color:#ea4335}.cDrQ7{color:#fcc934}.ntlR9{color:#34a853}.tJ3Myc{-webkit-transform:rotate(-20deg);position:relative;left:-1px;display:inline-block}footer{text-align:center;margin-top:18px}footer a,footer a:visited,.smiUbb{color:#70757a}.xeDNfc{margin:0 13px}#EOlPnc{margin-top:36px}#EOlPnc>div{margin:20px}.Srfpq{color:#70757a}</style></head><body jsmodel=\"hspDDf\"><header id=\"hdr\"><script nonce=\"aoZpBMd2ipdtNY5Hv-vXgA\">(function(){\n",
            "var k=this||self,l=function(a){var b=typeof a;return\"object\"==b&&null!=a||\"function\"==b},m=function(a,b){function c(){}c.prototype=b.prototype;a.j=b.prototype;a.prototype=new c;a.prototype.constructor=a;a.l=function(d,e,f){for(var g=Array(arguments.length-2),h=2;h<arguments.length;h++)g[h-2]=arguments[h];return b.prototype[e].apply(d,g)}};var n=Array.prototype.indexOf?function(a,b){return Array.prototype.indexOf.call(a,b,void 0)}:function(a,b){if(\"string\"===typeof a)return\"string\"!==typeof b||1!=b.length?-1:a.indexOf(b,0);for(var c=0;c<a.length;c++)if(c in a&&a[c]===b)return c;return-1};var p=function(a){return\"string\"==typeof a.className?a.className:a.getAttribute&&a.getAttribute(\"class\")||\"\"},q=function(a,b){\"string\"==typeof a.className?a.className=b:a.setAttribute&&a.setAttribute(\"class\",b)},r=function(a,b){a.classList?b=a.classList.contains(b):(a=a.classList?a.classList:p(a).match(/\\S+/g)||[],b=0<=n(a,b));return b},v=function(){var a=t,b=u;a.classList?a.classList.remove(b):r(a,b)&&q(a,Array.prototype.filter.call(a.classList?a.classList:p(a).match(/\\S+/g)||[],function(c){return c!=\n",
            "b}).join(\" \"))};function w(){var a=k.navigator;return a&&(a=a.userAgent)?a:\"\"};var x=function(a){x[\" \"](a);return a};x[\" \"]=function(){};var y=-1!=w().indexOf(\"Gecko\")&&!(-1!=w().toLowerCase().indexOf(\"webkit\")&&-1==w().indexOf(\"Edge\"))&&!(-1!=w().indexOf(\"Trident\")||-1!=w().indexOf(\"MSIE\"))&&-1==w().indexOf(\"Edge\");var z=function(a,b){this.type=a;this.target=b};z.prototype.g=function(){};var A=function(){if(!k.addEventListener||!Object.defineProperty)return!1;var a=!1,b=Object.defineProperty({},\"passive\",{get:function(){a=!0}});try{k.addEventListener(\"test\",function(){},b),k.removeEventListener(\"test\",function(){},b)}catch(c){}return a}();var C=function(a){z.call(this,a?a.type:\"\");this.relatedTarget=this.target=null;this.button=this.screenY=this.screenX=this.clientY=this.clientX=0;this.key=\"\";this.keyCode=0;this.metaKey=this.shiftKey=this.altKey=this.ctrlKey=!1;this.state=null;this.pointerId=0;this.pointerType=\"\";this.h=null;if(a){var b=this.type=a.type,c=a.changedTouches&&a.changedTouches.length?a.changedTouches[0]:null;this.target=a.target||a.srcElement;var d=a.relatedTarget;if(d){if(y){a:{try{x(d.nodeName);var e=!0;break a}catch(f){}e=\n",
            "!1}e||(d=null)}}else\"mouseover\"==b?d=a.fromElement:\"mouseout\"==b&&(d=a.toElement);this.relatedTarget=d;c?(this.clientX=void 0!==c.clientX?c.clientX:c.pageX,this.clientY=void 0!==c.clientY?c.clientY:c.pageY,this.screenX=c.screenX||0,this.screenY=c.screenY||0):(this.clientX=void 0!==a.clientX?a.clientX:a.pageX,this.clientY=void 0!==a.clientY?a.clientY:a.pageY,this.screenX=a.screenX||0,this.screenY=a.screenY||0);this.button=a.button;this.keyCode=a.keyCode||0;this.key=a.key||\"\";this.ctrlKey=a.ctrlKey;this.altKey=a.altKey;this.shiftKey=a.shiftKey;this.metaKey=a.metaKey;this.pointerId=a.pointerId||0;this.pointerType=\"string\"===typeof a.pointerType?a.pointerType:B[a.pointerType]||\"\";this.state=a.state;this.h=a;a.defaultPrevented&&C.j.g.call(this)}};m(C,z);var B={2:\"touch\",3:\"pen\",4:\"mouse\"};C.prototype.g=function(){C.j.g.call(this);var a=this.h;a.preventDefault?a.preventDefault():a.returnValue=!1};var D=\"closure_listenable_\"+(1E6*Math.random()|0);var E=0;var F=function(a,b,c,d,e){this.listener=a;this.proxy=null;this.src=b;this.type=c;this.capture=!!d;this.h=e;this.key=++E;this.g=this.i=!1},G=function(a){a.g=!0;a.listener=null;a.proxy=null;a.src=null;a.h=null};var H=function(a){this.src=a;this.g={};this.h=0};H.prototype.add=function(a,b,c,d,e){var f=a.toString();a=this.g[f];a||(a=this.g[f]=[],this.h++);var g;a:{for(g=0;g<a.length;++g){var h=a[g];if(!h.g&&h.listener==b&&h.capture==!!d&&h.h==e)break a}g=-1}-1<g?(b=a[g],c||(b.i=!1)):(b=new F(b,this.src,f,!!d,e),b.i=c,a.push(b));return b};var I=\"closure_lm_\"+(1E6*Math.random()|0),J={},K=0,M=function(a,b,c,d,e){if(d&&d.once)return L(a,b,c,d,e);if(Array.isArray(b)){for(var f=0;f<b.length;f++)M(a,b[f],c,d,e);return null}c=N(c);return a&&a[D]?a.g(b,c,l(d)?!!d.capture:!!d,e):O(a,b,c,!1,d,e)},O=function(a,b,c,d,e,f){if(!b)throw Error(\"a\");var g=l(e)?!!e.capture:!!e,h=P(a);h||(a[I]=h=new H(a));c=h.add(b,c,d,g,f);if(c.proxy)return c;d=Q();c.proxy=d;d.src=a;d.listener=c;if(a.addEventListener)A||(e=g),void 0===e&&(e=!1),a.addEventListener(b.toString(),d,e);else if(a.attachEvent)a.attachEvent(R(b.toString()),d);else if(a.addListener&&a.removeListener)a.addListener(d);else throw Error(\"b\");K++;return c},Q=function(){var a=S,b=function(c){return a.call(b.src,b.listener,c)};return b},L=function(a,b,c,d,e){if(Array.isArray(b)){for(var f=0;f<b.length;f++)L(a,b[f],c,d,e);return null}c=N(c);return a&&a[D]?a.h(b,c,l(d)?!!d.capture:!!d,e):O(a,b,c,!0,d,e)},T=function(a){if(\"number\"!==typeof a&&a&&!a.g){var b=a.src;if(b&&b[D])b.o(a);else{var c=a.type,d=a.proxy;b.removeEventListener?b.removeEventListener(c,d,a.capture):b.detachEvent?b.detachEvent(R(c),d):b.addListener&&b.removeListener&&b.removeListener(d);K--;if(c=P(b)){d=a.type;if(d in c.g){var e=c.g[d],f=n(e,a),g;(g=0<=f)&&Array.prototype.splice.call(e,f,1);g&&(G(a),0==c.g[d].length&&(delete c.g[d],c.h--))}0==c.h&&(c.src=null,b[I]=null)}else G(a)}}},R=function(a){return a in J?J[a]:J[a]=\"on\"+a},S=function(a,b){if(a.g)a=!0;else{b=new C(b,this);var c=a.listener,d=a.h||a.src;a.i&&T(a);a=c.call(d,b)}return a},P=function(a){a=a[I];return a instanceof H?a:null},U=\"__closure_events_fn_\"+(1E9*Math.random()>>>0),N=function(a){if(\"function\"===typeof a)return a;a[U]||(a[U]=function(b){return a.handleEvent(b)});return a[U]};var u,t=document.documentElement,V;function W(){T(V);V=L(t,\"mousedown\",function(){v();X()},{capture:!0})}function X(){T(V);V=M(t,\"keydown\",function(a){if(9===a.keyCode){a=t;var b=u;if(a.classList)a.classList.add(b);else if(!r(a,b)){var c=p(a);q(a,c+(0<c.length?\" \"+b:b))}W()}})};u=\"zAoYTe\";X();}).call(this);(function(){var c=500;(function(){\n",
            "window.screen&&window.screen.width<=c&&window.screen.height<=c&&document.getElementById(\"hdr\").classList.add(\"sml\");}).call(this);})();</script><div class=\"cOl4Id\"><a href=\"/?sa=X&amp;ved=0ahUKEwj1ya6F7pb4AhUDD6YKHWY8BdgQOwgC\"><span class=\"V6gwVd\">G</span><span class=\"iWkuvd\">o</span><span class=\"cDrQ7\">o</span><span class=\"V6gwVd\">g</span><span class=\"ntlR9\">l</span><span class=\"iWkuvd tJ3Myc\">e</span></a></div><div class=\"bz1lBb\"><form class=\"Pg70bf\" id=\"sf\"><a class=\"l\" href=\"/?output=search&amp;ie=UTF-8&amp;sa=X&amp;ved=0ahUKEwj1ya6F7pb4AhUDD6YKHWY8BdgQPAgE\"><span class=\"V6gwVd\">G</span><span class=\"iWkuvd\">o</span><span class=\"cDrQ7\">o</span><span class=\"V6gwVd\">g</span><span class=\"ntlR9\">l</span><span class=\"iWkuvd tJ3Myc\">e</span></a><input name=\"ie\" value=\"ISO-8859-1\" type=\"hidden\"><div class=\"H0PQec\"><div class=\"sbc esbc\"><input class=\"noHIxc\" value=\"prolog\" autocapitalize=\"none\" autocomplete=\"off\" name=\"q\" spellcheck=\"false\" type=\"text\"><input name=\"oq\" type=\"hidden\"><input name=\"aqs\" type=\"hidden\"><div class=\"x\">×</div><div class=\"sc\"></div></div></div><button id=\"qdClwb\" type=\"submit\"></button></form></div><noscript><meta content=\"0;url=/search?q=prolog&amp;ie=UTF-8&amp;gbv=1&amp;sei=_eqcYrXXIoOemAXm-JTADQ\" http-equiv=\"refresh\"><style>table,div,span,p{display:none}</style><div style=\"display:block\">&#22914;&#26524;&#31995;&#32113;&#27794;&#26377;&#22312;&#25976;&#31186;&#37912;&#24460;&#23559;&#24744;&#37325;&#26032;&#23566;&#21521;&#65292;&#35531;&#25353;&#19968;&#19979;<a href=\"/search?q=prolog&amp;ie=UTF-8&amp;gbv=1&amp;sei=_eqcYrXXIoOemAXm-JTADQ\">&#36889;&#35041;</a>&#12290;</div></noscript></header><div id=\"main\"><div><div class=\"KP7LCb\"> <div class=\"bRsWnc\"> <div class=\"N6RWV\"> <div class=\"Pg70bf Uv67qb\"> <span class=\"OXXup\">&#20840;&#37096;</span><a class=\"eZt8xd\" href=\"/search?q=prolog&amp;ie=UTF-8&amp;source=lnms&amp;tbm=isch&amp;sa=X&amp;ved=0ahUKEwj1ya6F7pb4AhUDD6YKHWY8BdgQ_AUICCgB\">&#22294;&#29255;</a><a class=\"eZt8xd\" href=\"/search?q=prolog&amp;ie=UTF-8&amp;source=lnms&amp;tbm=vid&amp;sa=X&amp;ved=0ahUKEwj1ya6F7pb4AhUDD6YKHWY8BdgQ_AUICSgC\">&#24433;&#29255;</a><a class=\"eZt8xd\" href=\"/search?q=prolog&amp;ie=UTF-8&amp;source=lnms&amp;tbm=nws&amp;sa=X&amp;ved=0ahUKEwj1ya6F7pb4AhUDD6YKHWY8BdgQ_AUICigD\">&#26032;&#32862;</a>  <a href=\"http://maps.google.com/maps?q=prolog&amp;um=1&amp;ie=UTF-8&amp;sa=X&amp;ved=0ahUKEwj1ya6F7pb4AhUDD6YKHWY8BdgQ_AUICygE\">&#22320;&#22294;</a>  <a href=\"/search?q=prolog&amp;ie=UTF-8&amp;source=lnms&amp;tbm=shop&amp;sa=X&amp;ved=0ahUKEwj1ya6F7pb4AhUDD6YKHWY8BdgQ_AUIDCgF\">&#36092;&#29289;</a>  <a href=\"/search?q=prolog&amp;ie=UTF-8&amp;source=lnms&amp;tbm=bks&amp;sa=X&amp;ved=0ahUKEwj1ya6F7pb4AhUDD6YKHWY8BdgQ_AUIDSgG\">&#26360;&#31821;</a>  <div class=\"FElbsf\"><a href=\"/advanced_search\" style=\"white-space:nowrap\" id=\"st-toggle\" role=\"button\">&#25628;&#23563;&#24037;&#20855;</a></div> </div> </div> </div> </div><div class=\"Pg70bf wEsjbd ZINbbc xpd O9g5cc uUPGi\" style=\"display:none\" id=\"st-card\"><style>.wEsjbd{background-color:#fff;height:44px;white-space:nowrap}.coPU8c{height:60px;overflow-scrolling:touch;overflow-x:auto;overflow-y:hidden}.Xj2aue{height:44px;overflow:hidden}.RnNGze{margin:11px 16px}.wEsjbd div,.wEsjbd a,.wEsjbd li{outline-width:0;outline:none}</style><div class=\"Xj2aue\"><div class=\"coPU8c\"><div class=\"RnNGze\"><style>.PA9J5{display:inline-block}.RXaOfd{display:inline-block;height:22px;position:relative;padding-top:0;padding-bottom:0;padding-right:16px;padding-left:0;line-height:22px;cursor:pointer;text-transform:uppercase;font-size:12px;color:#70757a}.sa1toc{display:none;position:absolute;background:#fff;border:1px solid #d6d6d6;box-shadow:0 2px 4px rgba(0,0,0,.3);margin:0;white-space:nowrap;z-index:103;line-height:17px;padding-top:5px;padding-bottom:5px;padding-left:0}.PA9J5:hover .sa1toc{display:block}.mGSy8d a:active,.RXaOfd:active{color:#4285f4}</style><div class=\"PA9J5\"><div class=\"RXaOfd\" role=\"button\" tabindex=\"0\"><style>.TWMOUc{display:inline-block;padding-right:14px;white-space:nowrap}.vQYuGf{font-weight:bold}.OmTIzf{border-color:#909090 transparent;border-style:solid;border-width:4px 4px 0 4px;width:0;height:0;margin-left:-10px;top:50%;margin-top:-2px;position:absolute}.RXaOfd:active .OmTIzf{border-color:#4285f4 transparent}</style><div class=\"TWMOUc\">&#19981;&#38480;&#35486;&#35328;</div><span class=\"OmTIzf\"></span></div><ul class=\"sa1toc ozatM\"><style>.ozatM{font-size:12px;text-transform:uppercase}.ozatM .yNFsl,.ozatM li{list-style-type:none;list-style-position:outside;list-style-image:none}.yNFsl.SkUj4c,.yNFsl a{color:rgba(0,0,0,0.54);text-decoration:none;padding:6px 44px 6px 14px;line-height:17px;display:block}.SkUj4c{background-image:url(//ssl.gstatic.com/ui/v1/menu/checkmark2.png);background-position:right center;background-repeat:no-repeat}.SkUj4c:active{background-color:#f8f9fa}</style><li class=\"yNFsl SkUj4c\">&#19981;&#38480;&#35486;&#35328;</li><li class=\"yNFsl\"><a href=\"/search?q=prolog&amp;ie=UTF-8&amp;source=lnt&amp;tbs=lr:lang_1zh-CN%7Clang_1zh-TW&amp;lr=lang_zh-CN%7Clang_zh-TW&amp;sa=X&amp;ved=0ahUKEwj1ya6F7pb4AhUDD6YKHWY8BdgQpwUIDw\">&#25628;&#23563;&#25152;&#26377;&#20013;&#25991;&#32178;&#38913;</a></li><li class=\"yNFsl\"><a href=\"/search?q=prolog&amp;ie=UTF-8&amp;source=lnt&amp;tbs=lr:lang_1zh-TW&amp;lr=lang_zh-TW&amp;sa=X&amp;ved=0ahUKEwj1ya6F7pb4AhUDD6YKHWY8BdgQpwUIEA\">&#25628;&#23563;&#32321;&#39636;&#20013;&#25991;&#32178;&#38913;</a></li></ul></div><div class=\"PA9J5\"><div class=\"RXaOfd\" role=\"button\" tabindex=\"0\"><div class=\"TWMOUc\">&#19981;&#38480;&#26178;&#38291;</div><span class=\"OmTIzf\"></span></div><ul class=\"sa1toc ozatM\"><li class=\"yNFsl SkUj4c\">&#19981;&#38480;&#26178;&#38291;</li><li class=\"yNFsl\"><a href=\"/search?q=prolog&amp;ie=UTF-8&amp;source=lnt&amp;tbs=qdr:h&amp;sa=X&amp;ved=0ahUKEwj1ya6F7pb4AhUDD6YKHWY8BdgQpwUIEg\"> &#36942;&#21435; 1 &#23567;&#26178;</a></li><li class=\"yNFsl\"><a href=\"/search?q=prolog&amp;ie=UTF-8&amp;source=lnt&amp;tbs=qdr:d&amp;sa=X&amp;ved=0ahUKEwj1ya6F7pb4AhUDD6YKHWY8BdgQpwUIEw\"> &#36942;&#21435; 24 &#23567;&#26178;</a></li><li class=\"yNFsl\"><a href=\"/search?q=prolog&amp;ie=UTF-8&amp;source=lnt&amp;tbs=qdr:w&amp;sa=X&amp;ved=0ahUKEwj1ya6F7pb4AhUDD6YKHWY8BdgQpwUIFA\"> &#36942;&#21435; 1 &#36913;</a></li><li class=\"yNFsl\"><a href=\"/search?q=prolog&amp;ie=UTF-8&amp;source=lnt&amp;tbs=qdr:m&amp;sa=X&amp;ved=0ahUKEwj1ya6F7pb4AhUDD6YKHWY8BdgQpwUIFQ\"> &#36942;&#21435; 1 &#20491;&#26376;</a></li><li class=\"yNFsl\"><a href=\"/search?q=prolog&amp;ie=UTF-8&amp;source=lnt&amp;tbs=qdr:y&amp;sa=X&amp;ved=0ahUKEwj1ya6F7pb4AhUDD6YKHWY8BdgQpwUIFg\"> &#36942;&#21435; 1 &#24180;</a></li></ul></div><div class=\"PA9J5\"><div class=\"RXaOfd\" role=\"button\" tabindex=\"0\"><div class=\"TWMOUc\">&#25152;&#26377;&#32080;&#26524;</div><span class=\"OmTIzf\"></span></div><ul class=\"sa1toc ozatM\"><li class=\"yNFsl SkUj4c\">&#25152;&#26377;&#32080;&#26524;</li><li class=\"yNFsl\"><a href=\"/search?q=prolog&amp;ie=UTF-8&amp;source=lnt&amp;tbs=li:1&amp;sa=X&amp;ved=0ahUKEwj1ya6F7pb4AhUDD6YKHWY8BdgQpwUIGA\">&#19968;&#23383;&#19981;&#24046;</a></li></ul></div></div></div></div><script nonce=\"aoZpBMd2ipdtNY5Hv-vXgA\">(function(){\n",
            "var a=document.getElementById(\"st-toggle\"),b=document.getElementById(\"st-card\");a&&b&&a.addEventListener(\"click\",function(c){b.style.display=b.style.display?\"\":\"none\";c.preventDefault()},!1);}).call(this);</script></div></div><style>.nGphre{float:right;padding-left:16px}.UykT9d{border-radius:8px;display:block}.nYT7Qb{clear:both}.ZINbbc{background-color:#fff;margin-bottom:30px;box-shadow:0 0 0 1px #dfe1e5;border-radius:8px}.uUPGi{font-size:14px;line-height:22px;}.O9g5cc>*:first-child{border-top-left-radius:8px;border-top-right-radius:8px}.O9g5cc>*:last-child{border-bottom-left-radius:8px;border-bottom-right-radius:8px}.O9g5cc>.qxDOhb>*:first-child{border-top-left-radius:8px;border-top-right-radius:8px}.O9g5cc>.qxDOhb>*:last-child{border-bottom-left-radius:8px;border-bottom-right-radius:8px}.RO6NFd .RO6NFd{box-shadow:none;margin-bottom:0px}.kCrYT{padding:12px 16px 12px}.l97dzf{font-weight:400}.zBAuLc{line-height:normal;margin:0;padding:0}.BNeawe{white-space:pre-line;word-wrap:break-word}.deIvCb{font-size:16px;line-height:20px;font-weight:400}.deIvCb.HrGdeb{color:#fff}.deIvCb.AP7Wnd{color:#202124}.tAd8D{font-size:14px;line-height:20px}.tAd8D.HrGdeb{color:rgba(255,255,255,.70)}.tAd8D.AP7Wnd{color:#70757a}.Xdlr0d{overflow-x:auto;-webkit-overflow-scrolling:touch;margin:0 -8px;padding:2px 0 16px 24px;margin-top:-2px;transform:translate3d(0,0,0)}.idg8be{display:table;border-collapse:separate;border-spacing:8px 0;margin:0 -8px;padding-right:16px}.BVG0Nb{display:table-cell;vertical-align:top;background-color:#fff;border-radius:8px;box-shadow:0 0 0 1px #dfe1e5;overflow:hidden}a.fdYsqf{color:#4b11a8}.WddBJd{display:block;margin:0 auto}.RJI4s{vertical-align:middle}.mHhylf{display:table-cell;vertical-align:middle}.WZ5GJf{align-items:center;padding:0 20px;min-width:112px}.qN9Ked,.DXk5Me{margin:0 auto}.DXk5Me{margin-bottom:12px}.Dk7jOe{display:block;margin:0 auto}.Qi9Fd{background:#fff;border:0;border-radius:999px;display:block;height:56px;justify-content:center;width:56px;z-index:0}.Qi9Fd{box-shadow:0 0 0 1px #dfe1e5,inset 0 0 0 0 rgba(0,0,0,0.10),inset 0 0 0 0 rgba(255,255,255,0.50)}.Qi9Fd:focus{outline:none}.Qi9Fd .hWHuJ{display:block;margin:0 auto}.ji5jpf{text-align:center}.skVgpb{display:table;table-layout:fixed;width:100%}.VGHMXd{display:table-cell;vertical-align:middle;height:52px;text-align:center}.LpaDrb{margin:0 auto 8px;display:block}.vbShOe{padding-top:0}.x54gtf{height:1px;background-color:#dadce0;margin:0 16px}.Q0HXG{height:1px;background-color:#dadce0}.Ey4n2{padding-bottom:12px}.s3v9rd{font-size:14px;line-height:22px}.s3v9rd.HrGdeb{color:#fff}.s3v9rd.AP7Wnd{color:#202124}.XLloXe{color:#1a0dab;font-size:14px;line-height:20px}a:visited .XLloXe,.XLloXe a:visited{color:#4b11a8}.XLloXe.HrGdeb{color:#fff}a:visited .XLloXe.HrGdeb,.XLloXe.HrGdeb a:visited{color:rgba(255,255,255,.70)}.AVsepf{padding-bottom:8px}.AVsepf.u2x1Od{padding-bottom:0}.ZTv9Bb{display:block}.nVTMpe{border-radius:8px}.X7NTVe{display:table;width:100%;padding-right:16px;box-sizing:border-box}.tHmfQe{display:table-cell;padding:12px 0 12px 16px}.UHtrk{width:72px}.HBTM6d{width:30px}.XS7yGd{display:table-cell;text-align:center;vertical-align:middle;padding:12px 0 12px 8px}.am3QBf{display:table;vertical-align:top}.EDgFbc{color:#1a0dab}a:visited .EDgFbc{color:#4b11a8}.EDgFbc.VyZZLb{color:#fff}a:visited .EDgFbc.VyZZLb{color:rgba(255,255,255,.70)}.luh4tb{background:transparent !important;box-shadow:none !important;border:none !important}.ZINbbc.luh4tb{margin-top:-12px;margin-bottom:18px}.rl7ilb{display:block;clear:both}.egMi0{margin-bottom:-22px}.vvjwJb{color:#1a0dab;font-size:20px;line-height:26px}a:visited .vvjwJb,.vvjwJb a:visited{color:#4b11a8}.vvjwJb.HrGdeb{color:#fff}a:visited .vvjwJb.HrGdeb,.vvjwJb.HrGdeb a:visited{color:rgba(255,255,255,.70)}.UPmit{font-size:14px;line-height:22px}.UPmit.HrGdeb{color:rgba(255,255,255,.70)}.UPmit.AP7Wnd{color:#0d652d}.yRG22b{padding-left:48px;margin:0}.MSiauf{padding-bottom:8px}.xUrNXd.VyZZLb{color:rgba(255,255,255,.70)}.xUrNXd.UMOHqf{color:#70757a}.mEUgP{font-weight:bold;font-size:16px;color:#000;margin:0;padding:12px 16px 12px}.iIWm4b{box-sizing:border-box;min-height:48px}.gGQDvd{padding:14px;position:relative}.Q71vJc{display:block;position:relative;width:100%}.kjGX2{position:absolute;left:48px;right:0;vertical-align:bottom;display:inline-block;color:#3c4043}.ieB2Dd{overflow:hidden;margin-top:-10px;margin-bottom:-16px;margin-right:8px;border-radius:4px;display:inline-block;border-radius:50%;padding:10px}.OEaqif{width:20px;height:20px;display:block}.lRVwie{text-overflow:ellipsis;white-space:nowrap;overflow:hidden}.rLshyf,.BmP5tf{padding-top:12px;padding-bottom:12px}.YOx3Ab{padding-left:16px;}.w1C3Le,.BmP5tf,.G5NbBd,.CS4w5b{padding-left:16px;padding-right:16px;}.G5NbBd{padding-bottom:12px}.CS4w5b{padding-top:12px}.nMymef{display:flex}.G5eFlf{flex:1;display:block}.nMymef span{text-align:center}.EYqSq{margin:6px 4px 9px 0;border-radius:100%;display:inline-block;height:10px;vertical-align:middle;width:10px}.dfB0uf{color:#3c4043;font-weight:bold}</style><div><!--SW_C_X--></div><div></div><div><div class=\"ZINbbc xpd O9g5cc uUPGi\"><div class=\"kCrYT\"><span><h3 class=\"zBAuLc l97dzf\"><div class=\"BNeawe deIvCb AP7Wnd\">Prolog</div></h3></span><span><div class=\"BNeawe tAd8D AP7Wnd\">&#31243;&#24335;&#35486;&#35328;</div></span></div><div><div><div><div class=\"Xdlr0d\"><div class=\"idg8be\"><a class=\"BVG0Nb\" href=\"/imgres?imgurl=https://www.researchgate.net/profile/Fuan-Pu/publication/316020844/figure/fig3/AS:661462511013888@1534716360913/Prolog-codes-for-the-neutrality-innocuousity-and-characteristic-functions.png&amp;imgrefurl=https://www.researchgate.net/figure/Prolog-codes-for-the-neutrality-innocuousity-and-characteristic-functions_fig3_316020844&amp;h=391&amp;w=714&amp;tbnid=Bu_swiodhtFH4M&amp;q=prolog&amp;tbnh=166&amp;tbnw=304&amp;usg=AI4_-kTwTn_tu3wRTFex0Qg7vi5jSEoPiQ&amp;vet=1&amp;docid=ETA_oapLWiTf_M&amp;itg=1&amp;sa=X&amp;ved=2ahUKEwj1ya6F7pb4AhUDD6YKHWY8BdgQ9QF6BAgGEAQ\"><div><img class=\"WddBJd\" style=\"max-width:none;height:128px;max-height:128px\" alt=\"www.researchgate.net/profile/Fuan-Pu/publication/3...\" src=\"data:image/gif;base64,R0lGODlhAQABAIAAAP///////yH5BAEKAAEALAAAAAABAAEAAAICTAEAOw==\" id=\"dimg_7\" data-deferred=\"1\"></div></a><a class=\"BVG0Nb\" href=\"/imgres?imgurl=https://www.swi-prolog.org/guitracer.gif&amp;imgrefurl=https://www.swi-prolog.org/gtrace.html&amp;h=420&amp;w=692&amp;tbnid=-NT-4pklZmr4eM&amp;q=prolog&amp;tbnh=84&amp;tbnw=139&amp;usg=AI4_-kQDSSWF0H9HwwTtFjR-nbN9WaNfyg&amp;vet=1&amp;docid=Egf51v4h9-fjFM&amp;sa=X&amp;ved=2ahUKEwj1ya6F7pb4AhUDD6YKHWY8BdgQ9QF6BAgGEAY\"><div><img class=\"WddBJd\" style=\"max-width:none;height:128px;max-height:128px\" alt=\"www.swi-prolog.org/guitracer.gif\" src=\"data:image/gif;base64,R0lGODlhAQABAIAAAP///////yH5BAEKAAEALAAAAAABAAEAAAICTAEAOw==\" id=\"dimg_11\" data-deferred=\"1\"></div></a><a class=\"BVG0Nb\" href=\"/imgres?imgurl=https://upload.wikimedia.org/wikipedia/en/8/84/Visual_Prolog_IDE_Screenshot.png&amp;imgrefurl=https://en.wikipedia.org/wiki/Visual_Prolog&amp;h=773&amp;w=1046&amp;tbnid=Jr22WxaewypEUM&amp;q=prolog&amp;tbnh=111&amp;tbnw=150&amp;usg=AI4_-kT6D4HYLEEBoXO9EcL7iWdAVwg9TA&amp;vet=1&amp;docid=FzMj8JRhlIE1IM&amp;sa=X&amp;ved=2ahUKEwj1ya6F7pb4AhUDD6YKHWY8BdgQ9QF6BAgGEAg\"><div><img class=\"WddBJd\" style=\"max-width:none;height:128px;max-height:128px\" alt=\"upload.wikimedia.org/wikipedia/en/8/84/Visual_Prol...\" src=\"data:image/gif;base64,R0lGODlhAQABAIAAAP///////yH5BAEKAAEALAAAAAABAAEAAAICTAEAOw==\" id=\"dimg_15\" data-deferred=\"1\"></div></a><a class=\"BVG0Nb\" href=\"/imgres?imgurl=https://www.researchgate.net/profile/Simon-Price/publication/242012308/figure/fig1/AS:669973680754700@1536745581464/Prolog-code-to-be-pretty-printed.png&amp;imgrefurl=https://www.researchgate.net/figure/Prolog-code-to-be-pretty-printed_fig1_242012308&amp;h=513&amp;w=850&amp;tbnid=VxuBXQR4V4GEvM&amp;q=prolog&amp;tbnh=88&amp;tbnw=145&amp;usg=AI4_-kRwXlgh9xO_0P4d-ECmHtCQzwCobw&amp;vet=1&amp;docid=ejYnJAspR7UQjM&amp;sa=X&amp;ved=2ahUKEwj1ya6F7pb4AhUDD6YKHWY8BdgQ9QF6BAgGEAo\"><div><img class=\"WddBJd\" style=\"max-width:none;height:128px;max-height:128px\" alt=\"www.researchgate.net/profile/Simon-Price/publicati...\" src=\"data:image/gif;base64,R0lGODlhAQABAIAAAP///////yH5BAEKAAEALAAAAAABAAEAAAICTAEAOw==\" id=\"dimg_19\" data-deferred=\"1\"></div></a><div class=\"mHhylf\"><div class=\"WZ5GJf\"><a class=\"qN9Ked\" href=\"http://www.google.com/search?ie=UTF-8&amp;ei=_eqcYrXXIoOemAXm-JTADQ&amp;q=prolog&amp;tbm=isch&amp;sa=X&amp;ved=2ahUKEwj1ya6F7pb4AhUDD6YKHWY8BdgQ7Al6BAgGEAw\"><button class=\"DXk5Me Qi9Fd\" tabindex=\"-1\"><span class=\"hWHuJ\"><img class=\"Dk7jOe\" alt=\"\" src=\"data:image/gif;base64,R0lGODlhAQABAIAAAP///////yH5BAEKAAEALAAAAAABAAEAAAICTAEAOw==\" style=\"max-width:24px;max-height:24px\" id=\"dimg_25\" data-deferred=\"1\"></span></button><div class=\"BNeawe ji5jpf tAd8D AP7Wnd\">&#20840;&#37096;&#39023;&#31034;</div></a></div></div></div></div></div></div></div><div class=\"Q0HXG\"></div><div class=\"kCrYT\"><div><div class=\"BNeawe s3v9rd AP7Wnd\"><div><div class=\"BNeawe s3v9rd AP7Wnd\">Prolog&#26159;&#19968;&#31278;&#37007;&#36655;&#31243;&#24335;&#35373;&#35336;&#35486;&#35328;&#12290;&#23427;&#24314;&#31435;&#22312;&#37007;&#36655;&#23416;&#30340;&#29702;&#35542;&#22522;&#30990;&#20043;&#19978;&#65292; &#26368;&#21021;&#34987;&#36939;&#29992;&#26044;&#33258;&#28982;&#35486;&#35328;&#31561;&#30740;&#31350;&#38936;&#22495;&#12290;&#29694;&#22312;&#23427;&#24050;&#24291;&#27867;&#30340;&#25033;&#29992;&#22312;&#20154;&#24037;&#26234;&#24935;&#30340;&#30740;&#31350;&#20013;&#65292;&#23427;&#21487;&#20197;&#29992;&#20358;&#24314;&#36896;&#23560;&#23478;&#31995;&#32113;&#12289;&#33258;&#28982;&#35486;&#35328;&#29702;&#35299;&#12289;&#26234;&#24935;&#22411;&#30693;&#35672;&#24235;&#31561;&#12290; <span class=\"BNeawe\"><a href=\"/url?q=https://zh.wikipedia.org/zh-tw/Prolog&amp;sa=U&amp;ved=2ahUKEwj1ya6F7pb4AhUDD6YKHWY8BdgQmhN6BAgGEA4&amp;usg=AOvVaw1PEmlx1LPLaYeAu-uXwxg3\"><span class=\"XLloXe AP7Wnd\">&#32173;&#22522;&#30334;&#31185;</span></a></span></div></div></div></div></div><div class=\"vbShOe kCrYT\"><div class=\"AVsepf u2x1Od\"><div class=\"BNeawe s3v9rd AP7Wnd\"><span><span class=\"BNeawe s3v9rd AP7Wnd\">&#35373;&#35336;&#32773;</span></span>&#65306; <span><span class=\"BNeawe tAd8D AP7Wnd\"><span class=\"BNeawe\"><a href=\"/search?ie=UTF-8&amp;q=%E9%98%BF%E5%85%B0%C2%B7%E7%A7%91%E5%B0%94%E9%BB%98%E7%BD%97&amp;stick=H4sIAAAAAAAAAOPgE-LQz9U3MC0rqFLiBLGMDLKSLLUMMsqt9JPzc3JSk0sy8_P0C4ry04sSc3Mz89LjcxLz0ksT01OLrVJSizPT81JTFJIqF7GKvJyx_2nrhkPbny-f-HTDlJe7ZzzfOx0AiCxv4mAAAAA&amp;sa=X&amp;ved=2ahUKEwj1ya6F7pb4AhUDD6YKHWY8BdgQmxN6BAgGEBA\"><span class=\"XLloXe AP7Wnd\">&#33406;&#20523;·&#31185;&#26757;&#20399;&#32822;</span></a></span>&#21644;<span class=\"BNeawe\"><a href=\"/search?ie=UTF-8&amp;q=%E7%BD%97%E4%BC%AF%E7%89%B9%C2%B7%E7%A7%91%E7%93%A6%E5%B0%94%E6%96%AF%E5%9F%BA&amp;stick=H4sIAAAAAAAAAOPgE-LQz9U3MC0rqFLiBLMykiortAwyyq30k_NzclKTSzLz8_QLivLTixJzczPz0uNzEvPSSxPTU4utUlKLM9PzUlMUkioXsUo93zv9yZ71zzt3Htr-fPnE55OXPd0w5dm09U_n7wIAr4W8MWYAAAA&amp;sa=X&amp;ved=2ahUKEwj1ya6F7pb4AhUDD6YKHWY8BdgQmxN6BAgGEBE\"><span class=\"XLloXe AP7Wnd\">&#32645;&#20271;&#29305;·&#31185;&#29926;&#29246;&#26031;&#22522;</span></a></span></span></span></div></div></div></div></div><div><div class=\"ZINbbc xpd O9g5cc uUPGi\"><div class=\"kCrYT\"><div class=\"q4vBJc\"></div><span><h2 class=\"zBAuLc l97dzf\"><div class=\"BNeawe deIvCb AP7Wnd\">&#26597;&#30475;&#20197;&#19979;&#20839;&#23481;&#30340;&#25628;&#23563;&#32080;&#26524;&#65306;</div></h2></span></div><div class=\"Q0HXG\"></div><div class=\"X7NTVe\"><a class=\"tHmfQe\" href=\"/search?ie=UTF-8&amp;q=swi-prolog&amp;stick=H4sIAAAAAAAAAONgVuLUz9U3MC2sqMoFAH2pVi0NAAAA&amp;sa=X&amp;ved=2ahUKEwj1ya6F7pb4AhUDD6YKHWY8BdgQ6RN6BAgAEAM\"><div class=\"am3QBf\"><div><span><h3 class=\"zBAuLc l97dzf\"><div class=\"BNeawe deIvCb AP7Wnd\"><span class=\"UMOHqf EDgFbc\">SWI-Prolog</span></div></h3></span><span><div class=\"BNeawe tAd8D AP7Wnd\">&#36575;&#39636;</div></span></div></div></a><div class=\"UHtrk XS7yGd\"><a href=\"/search?ie=UTF-8&amp;q=swi-prolog&amp;stick=H4sIAAAAAAAAAONgVuLUz9U3MC2sqMoFAH2pVi0NAAAA&amp;sa=X&amp;ved=2ahUKEwj1ya6F7pb4AhUDD6YKHWY8BdgQ6RN6BAgAEAQ\"><img class=\"ZTv9Bb nVTMpe\" alt=\"\" src=\"data:image/gif;base64,R0lGODlhAQABAIAAAP///////yH5BAEKAAEALAAAAAABAAEAAAICTAEAOw==\" style=\"max-width:72px;max-height:72px\" id=\"dimg_1\" data-deferred=\"1\"></a></div></div></div></div><div><div class=\"ZINbbc luh4tb xpd O9g5cc uUPGi\"><div class=\"egMi0 kCrYT\"><a href=\"/url?q=https://zh.wikipedia.org/zh-tw/Prolog&amp;sa=U&amp;ved=2ahUKEwj1ya6F7pb4AhUDD6YKHWY8BdgQFnoECAsQAg&amp;usg=AOvVaw2j1vRjBJIyXLjqOheoxLMj\"><h3 class=\"zBAuLc l97dzf\"><div class=\"BNeawe vvjwJb AP7Wnd\">Prolog - &#32173;&#22522;&#30334;&#31185;&#65292;&#33258;&#30001;&#30340;&#30334;&#31185;&#20840;&#26360;</div></h3><div class=\"BNeawe UPmit AP7Wnd\">zh.wikipedia.org &#8250; zh-tw &#8250; Prolog</div></a></div><div class=\"kCrYT\"><div><div class=\"BNeawe s3v9rd AP7Wnd\"><div><div class=\"MSiauf\"><div class=\"BNeawe s3v9rd AP7Wnd\">Prolog&#65288;Programming in Logic&#30340;&#32302;&#23531;&#65289;&#26159;&#19968;&#31278;&#37007;&#36655;&#31243;&#24335;&#35373;&#35336;&#35486;&#35328;&#12290;&#23427;&#24314;&#31435;&#22312;&#37007;&#36655;&#23416;&#30340;&#29702;&#35542;&#22522;&#30990;&#20043;&#19978;&#65292; &#26368;&#21021;&#34987;&#36939;&#29992;&#26044;&#33258;&#28982;&#35486;&#35328;&#31561;&#30740;&#31350;&#38936;&#22495;&#12290;&#29694;&#22312;&#23427;&#24050;&#24291;&#27867;&#30340;&#25033;&#29992;&#22312;&#20154;&#24037;&#26234;&#24935;&#30340; ...</div></div><div class=\"MSiauf\"><div class=\"BNeawe s3v9rd AP7Wnd\"><span class=\"BNeawe\"><a href=\"/url?q=https://zh.wikipedia.org/zh-tw/Prolog%23%25E5%258E%2586%25E5%258F%25B2&amp;sa=U&amp;ved=2ahUKEwj1ya6F7pb4AhUDD6YKHWY8BdgQ0gJ6BAgLEAU&amp;usg=AOvVaw3zEGIChwtcBSIv-W3hkHBE\"><span class=\"XLloXe AP7Wnd\">&#27511;&#21490;</span></a></span> · <span class=\"BNeawe\"><a href=\"/url?q=https://zh.wikipedia.org/zh-tw/Prolog%23%25E7%2589%25B9%25E9%25BB%259E&amp;sa=U&amp;ved=2ahUKEwj1ya6F7pb4AhUDD6YKHWY8BdgQ0gJ6BAgLEAY&amp;usg=AOvVaw1_Zbfe8OrWobroyCUhZudP\"><span class=\"XLloXe AP7Wnd\">&#29305;&#40670;</span></a></span> · <span class=\"BNeawe\"><a href=\"/url?q=https://zh.wikipedia.org/zh-tw/Prolog%23%25E8%25AF%25AD%25E6%25B3%2595%25E7%25A4%25BA%25E4%25BE%258B&amp;sa=U&amp;ved=2ahUKEwj1ya6F7pb4AhUDD6YKHWY8BdgQ0gJ6BAgLEAc&amp;usg=AOvVaw1vQhofBR3whitiRbA3SFq6\"><span class=\"XLloXe AP7Wnd\">&#35486;&#27861;&#31034;&#20363;</span></a></span> · <span class=\"BNeawe\"><a href=\"/url?q=https://zh.wikipedia.org/zh-tw/Prolog%23Prolog%25E7%25AF%2584%25E4%25BE%258B&amp;sa=U&amp;ved=2ahUKEwj1ya6F7pb4AhUDD6YKHWY8BdgQ0gJ6BAgLEAg&amp;usg=AOvVaw08Kw5oaPIoAd6NlyAjK0MU\"><span class=\"XLloXe AP7Wnd\">Prolog&#31684;&#20363;</span></a></span></div></div><div><div class=\"BNeawe s3v9rd AP7Wnd\">&#35373;&#35336;&#32773;: <span class=\"xUrNXd UMOHqf\">Alain Colmerauer&#65288;&#33521;&#35486;&#65306;Alain Colmerauer&#65289;&#65292;&#32645;&#20271;&#29305;·&#31185;&#29926;&#29246;&#26031;&#22522;</span><br>&#32232;&#31243;&#31684;&#22411;: <span class=\"BNeawe\"><a href=\"/url?q=http://zh.wikipedia.org/wiki/%25E9%2582%258F%25E8%25BC%25AF%25E7%25B7%25A8%25E7%25A8%258B&amp;sa=U&amp;ved=2ahUKEwj1ya6F7pb4AhUDD6YKHWY8BdgQs2Z6BAgLEAs&amp;usg=AOvVaw1-UAHbQwd2x7MEdjaCjUW8\"><span class=\"XLloXe AP7Wnd\">&#37007;&#36655;&#24335;</span></a></span></div></div></div></div></div></div></div></div><div><div class=\"ZINbbc luh4tb xpd O9g5cc uUPGi\"><div class=\"egMi0 kCrYT\"><a href=\"/url?q=https://zh.wikipedia.org/wiki/Prolog&amp;sa=U&amp;ved=2ahUKEwj1ya6F7pb4AhUDD6YKHWY8BdgQFnoECAcQAg&amp;usg=AOvVaw19RpIMvIzg8leHIUWMH-eP\"><h3 class=\"zBAuLc l97dzf\"><div class=\"BNeawe vvjwJb AP7Wnd\">Prolog - &#32500;&#22522;&#30334;&#31185;&#65292;&#33258;&#30001;&#30340;&#30334;&#31185;&#20840;&#20070;</div></h3><div class=\"BNeawe UPmit AP7Wnd\">zh.wikipedia.org &#8250; wiki &#8250; Prolog</div></a></div><div class=\"kCrYT\"><div><div class=\"BNeawe s3v9rd AP7Wnd\"><div><div class=\"MSiauf\"><div class=\"BNeawe s3v9rd AP7Wnd\">Prolog&#65288;Programming in Logic&#30340;&#32553;&#20889;&#65289;&#26159;&#19968;&#31181;&#36923;&#36753;&#32534;&#31243;&#35821;&#35328;&#12290;&#23427;&#24314;&#31435;&#22312;&#36923;&#36753;&#23398;&#30340;&#29702;&#35770;&#22522;&#30784;&#20043;&#19978;&#65292; &#26368;&#21021;&#34987;&#36816;&#29992;&#20110;&#33258;&#28982;&#35821;&#35328;&#31561;&#30740;&#31350;&#39046;&#22495;&#12290;&#29616;&#22312;&#23427;&#24050;&#24191;&#27867;&#30340;&#24212;&#29992;&#22312;&#20154;&#24037;&#26234;&#33021;&#30340;&#30740;&#31350; ...</div></div><div><div class=\"BNeawe s3v9rd AP7Wnd\">&#32534;&#31243;&#33539;&#22411;: <span class=\"BNeawe\"><a href=\"/url?q=http://zh.wikipedia.org/wiki/%25E9%2582%258F%25E8%25BC%25AF%25E7%25B7%25A8%25E7%25A8%258B&amp;sa=U&amp;ved=2ahUKEwj1ya6F7pb4AhUDD6YKHWY8BdgQs2Z6BAgHEAU&amp;usg=AOvVaw3kxATGifWXDjRGtbPTDFG5\"><span class=\"XLloXe AP7Wnd\">&#36923;&#36753;&#24335;</span></a></span></div></div></div></div></div></div></div></div><div><div class=\"ZINbbc luh4tb xpd O9g5cc uUPGi\"><div class=\"egMi0 kCrYT\"><a href=\"/url?q=https://www.swi-prolog.org/&amp;sa=U&amp;ved=2ahUKEwj1ya6F7pb4AhUDD6YKHWY8BdgQFnoECAkQAg&amp;usg=AOvVaw27GoCrPDY2pAoTuHzRFpGv\"><h3 class=\"zBAuLc l97dzf\"><div class=\"BNeawe vvjwJb AP7Wnd\">SWI-Prolog</div></h3><div class=\"BNeawe UPmit AP7Wnd\">www.swi-prolog.org</div></a></div><div class=\"kCrYT\"><div><div class=\"BNeawe s3v9rd AP7Wnd\"><div><div><div class=\"BNeawe s3v9rd AP7Wnd\">SWI-Prolog is widely used in research and education as well as commercial applications. Join over a million users who have downloaded SWI-Prolog. more ...</div></div></div></div></div></div></div></div><div><div class=\"ZINbbc luh4tb xpd O9g5cc uUPGi\"><div class=\"egMi0 kCrYT\"><a href=\"/url?q=https://programmermagazine.github.io/201308/htm/article3.html&amp;sa=U&amp;ved=2ahUKEwj1ya6F7pb4AhUDD6YKHWY8BdgQFnoECAoQAg&amp;usg=AOvVaw0ZP1k1SQetrZzjFMriCs_i\"><h3 class=\"zBAuLc l97dzf\"><div class=\"BNeawe vvjwJb AP7Wnd\">Prolog &#20837;&#38272;(&#20316;&#32773;&#65306; KuoE0)</div></h3><div class=\"BNeawe UPmit AP7Wnd\">programmermagazine.github.io &#8250; htm &#8250; article3</div></a></div><div class=\"kCrYT\"><div><div class=\"BNeawe s3v9rd AP7Wnd\"><div><div><div class=\"BNeawe s3v9rd AP7Wnd\">&#36889;&#23416;&#26399;&#31532;&#20108;&#20491;&#25945;&#30340;&#31243;&#24335;&#35486;&#35328;&#26159;Prolog&#65292;&#36889;&#20491;&#35486;&#35328;&#26356;&#22855;&#22937;&#20102;&#65281;&#20043;&#25152;&#20197;&#31281;&#20316;Prolog &#30340;&#29702;&#30001;&#26159;&#65292;&#20182;&#26159;&#12300;Programming in logic&#12301;&#30340;&#32302;&#23531;&#12290;&#34987;&#24291;&#27867;&#20351;&#29992;&#26044;&#20154;&#24037;&#26234;&#24935;&#30340;&#38936;&#22495;&#65292;&#26356;&#24120;&#34987;&#20316;&#28858; ...</div></div></div></div></div></div></div></div><div><div class=\"ZINbbc luh4tb xpd O9g5cc uUPGi\"><div class=\"egMi0 kCrYT\"><a href=\"/url?q=http://programmermagazine.github.io/201307/htm/message1.html&amp;sa=U&amp;ved=2ahUKEwj1ya6F7pb4AhUDD6YKHWY8BdgQFnoECAgQAg&amp;usg=AOvVaw1Mfuhs0YWdtjEW0FhQZxNh\"><h3 class=\"zBAuLc l97dzf\"><div class=\"BNeawe vvjwJb AP7Wnd\">&#31243;&#24335;&#30701;&#35338;&#65306;PROLOG &#35486;&#35328;&#33287;&#38283;&#30332;&#24037;&#20855;</div></h3><div class=\"BNeawe UPmit AP7Wnd\">programmermagazine.github.io &#8250; htm &#8250; message1</div></a></div><div class=\"kCrYT\"><div><div class=\"BNeawe s3v9rd AP7Wnd\"><div><div><div class=\"BNeawe s3v9rd AP7Wnd\">PROLOG &#26368;&#21021;&#34987;&#36939;&#29992;&#26044;&#33258;&#28982;&#35486;&#35328;&#31561;&#30740;&#31350;&#38936;&#22495;&#12290;&#29694;&#22312;&#23427;&#24050;&#24291;&#27867;&#30340;&#25033;&#29992;&#22312;&#20154;&#24037;&#26234;&#24935;&#30340;&#30740;&#31350;&#20013;&#65292; &#23427;&#32147;&#24120;&#34987;&#29992;&#20358;&#24314;&#36896;&#23560;&#23478;&#31995;&#32113;&#12289;&#33258;&#28982;&#35486;&#35328;&#29702;&#35299;&#12289;&#26234;&#24935;&#30693;&#35672;&#24235;&#31561; ...</div></div></div></div></div></div></div></div><div><div class=\"ZINbbc luh4tb xpd O9g5cc uUPGi\"><div class=\"egMi0 kCrYT\"><a href=\"/url?q=http://sp1.wikidot.com/prolog&amp;sa=U&amp;ved=2ahUKEwj1ya6F7pb4AhUDD6YKHWY8BdgQFnoECAEQAg&amp;usg=AOvVaw3A8M7B6QHuO0KjuSE-erdR\"><h3 class=\"zBAuLc l97dzf\"><div class=\"BNeawe vvjwJb AP7Wnd\">&#35486;&#24847;&#29702;&#35542;&#65306;&#37007;&#36655;&#24335;&#35486;&#35328;Prolog - &#25945;&#31185;&#26360;&#65306;&#31995;&#32113;&#31243;&#24335;</div></h3><div class=\"BNeawe UPmit AP7Wnd\">sp1.wikidot.com &#8250; prolog</div></a></div><div class=\"kCrYT\"><div><div class=\"BNeawe s3v9rd AP7Wnd\"><div><div><div class=\"BNeawe s3v9rd AP7Wnd\"><span class=\"xUrNXd UMOHqf\">2010&#24180;6&#26376;10&#26085;</span><span class=\"xUrNXd UMOHqf\"> · </span>&#35201;&#29702;&#35299;Prolog&#30340;&#35486;&#32681;&#20043;&#21069;&#65292;&#24517;&#38920;&#20808;&#29702;&#35299;&#20854;&#35486;&#27861;&#65292;Prolog&#26377;&#19977;&#31278;&#22522;&#26412;&#30340;&#21477;&#22411;1. &#20107;&#23526;(Facts) 2. &#25512;&#35542;(clause) 3. &#21839;&#38988;(query)&#65292;&#36889;&#19977;&#20491;&#22522;&#26412;&#21477;&#22411;&#21448;&#37117; ...</div></div></div></div></div></div></div></div><div><div class=\"ZINbbc luh4tb xpd O9g5cc uUPGi\"><div class=\"egMi0 kCrYT\"><a href=\"/url?q=https://terms.naer.edu.tw/detail/1284734/&amp;sa=U&amp;ved=2ahUKEwj1ya6F7pb4AhUDD6YKHWY8BdgQFnoECAQQAg&amp;usg=AOvVaw3m7mD3VKf_1sXpHK5XmqOI\"><h3 class=\"zBAuLc l97dzf\"><div class=\"BNeawe vvjwJb AP7Wnd\">Prolog&#31243;&#24335;&#35486;&#35328; - &#22283;&#23478;&#25945;&#32946;&#30740;&#31350;&#38498;&#38617;&#35486;&#35422;&#24409;</div></h3><div class=\"BNeawe UPmit AP7Wnd\">terms.naer.edu.tw &#8250; detail</div></a></div><div class=\"kCrYT\"><div><div class=\"BNeawe s3v9rd AP7Wnd\"><div><div><div class=\"BNeawe s3v9rd AP7Wnd\">Prolog&#31243;&#24335;&#35486;&#35328;. Prolog. 2003&#24180;6&#26376; &#36039;&#35338;&#33287;&#36890;&#20449;&#34899;&#35486;&#36781;&#20856; ... &#33258;&#28982;&#35486;&#35328;&#34389;&#29702;&#30340;&#24037;&#20855;&#65292;&#30446;&#21069;&#24120;&#25033;&#29992;&#26044;&#20154;&#24037;&#26234;&#24935;&#26041;&#38754;&#65292;&#29305;&#21029;&#26159;&#23560;&#23478;&#31995;&#32113;&#12290;PROLOG&#28858;PROgramming in LOGic&#30340;&#32302;&#23531;&#12290;</div></div></div></div></div></div></div></div><div><div class=\"ZINbbc luh4tb xpd O9g5cc uUPGi\"><div class=\"egMi0 kCrYT\"><a href=\"/url?q=https://terms.naer.edu.tw/detail/1679370/%3Findex%3D1&amp;sa=U&amp;ved=2ahUKEwj1ya6F7pb4AhUDD6YKHWY8BdgQFnoECAIQAg&amp;usg=AOvVaw37KmqlY1r_AiGiqH0cpvtD\"><h3 class=\"zBAuLc l97dzf\"><div class=\"BNeawe vvjwJb AP7Wnd\">PROLOG&#31243;&#24335;&#35486;&#35328; - &#22283;&#23478;&#25945;&#32946;&#30740;&#31350;&#38498;&#38617;&#35486;&#35422;&#24409;</div></h3><div class=\"BNeawe UPmit AP7Wnd\">terms.naer.edu.tw &#8250; detail</div></a></div><div class=\"kCrYT\"><div><div class=\"BNeawe s3v9rd AP7Wnd\"><div><div><div class=\"BNeawe s3v9rd AP7Wnd\">&#21517;&#35422;&#35299;&#37323;: PROLOG&#20043;&#21517;&#24471;&#33258;PROgramming in LOGic&#65292;&#28858;&#33879;&#21517;&#20855;&#37007;&#36655;&#29305;&#24615;&#30340;&#31243;&#24335;&#35486;&#35328;&#12290;&#20854;&#30332;&#28304;&#35201;&#36861;&#28335;&#33267;1972&#24180;&#65292;&#27861;&#22283;&#39340;&#36093;(Marseilles)&#22823;&#23416;&#20154;&#24037;&#26234;&#24935;&#23567;&#32068;&#20013;Alain Colmeraner&#21644;P.</div></div></div></div></div></div></div></div><div><div class=\"ZINbbc luh4tb xpd O9g5cc uUPGi\"><div class=\"egMi0 kCrYT\"><a href=\"/url?q=https://blog.kuoe0.tw/posts/2013/06/19/prolog-tutorial/&amp;sa=U&amp;ved=2ahUKEwj1ya6F7pb4AhUDD6YKHWY8BdgQFnoECAMQAg&amp;usg=AOvVaw2bvVPmryUvQJqK9L9dIzFq\"><h3 class=\"zBAuLc l97dzf\"><div class=\"BNeawe vvjwJb AP7Wnd\">Prolog &#20837;&#38272;</div></h3><div class=\"BNeawe UPmit AP7Wnd\">blog.kuoe0.tw &#8250; posts &#8250; 2013/06/19 &#8250; prolog-tutorial</div></a></div><div class=\"kCrYT\"><div><div class=\"BNeawe s3v9rd AP7Wnd\"><div><div><div class=\"BNeawe s3v9rd AP7Wnd\"><span class=\"xUrNXd UMOHqf\">2013&#24180;6&#26376;19&#26085;</span><span class=\"xUrNXd UMOHqf\"> · </span>&#32769;&#23526;&#35498;&#65292;Prolog &#20491;&#20154;&#35258;&#24471;&#30495;&#30340;&#19981;&#22909;&#23416;&#32722;&#65292;&#23565;&#26044;&#32722;&#24931;imperative programming &#30340;&#20358;&#35498;&#65292;&#24605;&#32173; ... Prolog &#20063;&#26159;&#26377;&#35377;&#22810;&#19981;&#21516;&#30340;&#23526;&#29694;&#65292;&#36889;&#37002;&#25105;&#36984;&#25799;&#20102;SWI Prolog&#12290;</div></div></div></div></div></div></div></div><div><div class=\"ZINbbc luh4tb xpd O9g5cc uUPGi\"><div class=\"egMi0 kCrYT\"><a href=\"/url?q=https://iter01.com/550980.html&amp;sa=U&amp;ved=2ahUKEwj1ya6F7pb4AhUDD6YKHWY8BdgQFnoECAwQAg&amp;usg=AOvVaw2ljDoUl6QMIJ91WDQpN_4Q\"><h3 class=\"zBAuLc l97dzf\"><div class=\"BNeawe vvjwJb AP7Wnd\">Prolog&#20837;&#38272;&#25945;&#31243;&#65288;&#23436;&#25972;&#29256;&#65289; | IT&#20154;</div></h3><div class=\"BNeawe UPmit AP7Wnd\">iter01.com &#8250; ...</div></a></div><div class=\"kCrYT\"><div><div class=\"BNeawe s3v9rd AP7Wnd\"><div><div><div class=\"BNeawe s3v9rd AP7Wnd\"><span class=\"xUrNXd UMOHqf\">2020&#24180;11&#26376;5&#26085;</span><span class=\"xUrNXd UMOHqf\"> · </span>Prolog &#22312;&#33521;&#35486;&#20013;&#30340;&#24847;&#24605;&#23601;&#26159;Programming in logic &#65288;&#37007;&#36655;&#31243;&#24335;&#35373;&#35336;&#65289;&#12290;&#23427;&#26159;&#24314;&#31435;&#22312;&#37007;&#36655;&#23416;&#30340;&#29702;&#35542;&#22522;&#30990;&#20043;&#19978;&#30340;&#65292; &#26368;&#21021;&#26159;&#36939;&#29992;&#26044;&#33258;&#28982;&#35486;&#35328;&#30340;&#30740;&#31350;&#38936;&#22495;&#12290;&#28982;&#32780;&#29694;&#22312;&#23427;&#34987; ...</div></div></div></div></div></div></div></div><div><div class=\"ZINbbc xpd O9g5cc uUPGi\"><div></div><div class=\"mEUgP\"><span><div class=\"BNeawe\">&#30456;&#38364;&#25628;&#23563;</div></span></div><div class=\"x54gtf\"></div><div><div class=\"gGQDvd iIWm4b\"><a class=\"Q71vJc\" href=\"/search?ie=UTF-8&amp;q=prolog%E6%95%99%E5%AD%B8&amp;sa=X&amp;ved=2ahUKEwj1ya6F7pb4AhUDD6YKHWY8BdgQ1QJ6BAgFEAI\"><accordion-entry-search-icon><span class=\"ieB2Dd\"><img class=\"OEaqif\" alt=\"\" src=\"data:image/gif;base64,R0lGODlhAQABAIAAAP///////yH5BAEKAAEALAAAAAABAAEAAAICTAEAOw==\" style=\"max-width:20px;max-height:20px\" id=\"dimg_3\" data-deferred=\"1\"></span></accordion-entry-search-icon><div class=\"kjGX2\"><span><div class=\"BNeawe s3v9rd AP7Wnd lRVwie\">prolog&#25945;&#23416;</div></span></div></a></div></div><div class=\"x54gtf\"></div><div><div class=\"gGQDvd iIWm4b\"><a class=\"Q71vJc\" href=\"/search?ie=UTF-8&amp;q=prolog%E9%9C%B2%E7%87%9F&amp;sa=X&amp;ved=2ahUKEwj1ya6F7pb4AhUDD6YKHWY8BdgQ1QJ6BAgFEAQ\"><accordion-entry-search-icon><span class=\"ieB2Dd\"><img class=\"OEaqif\" alt=\"\" src=\"data:image/gif;base64,R0lGODlhAQABAIAAAP///////yH5BAEKAAEALAAAAAABAAEAAAICTAEAOw==\" style=\"max-width:20px;max-height:20px\" id=\"dimg_5\" data-deferred=\"1\"></span></accordion-entry-search-icon><div class=\"kjGX2\"><span><div class=\"BNeawe s3v9rd AP7Wnd lRVwie\">prolog&#38706;&#29151;</div></span></div></a></div></div><div class=\"x54gtf\"></div><div><div class=\"gGQDvd iIWm4b\"><a class=\"Q71vJc\" href=\"/search?ie=UTF-8&amp;q=prolog%E4%B8%AD%E6%96%87&amp;sa=X&amp;ved=2ahUKEwj1ya6F7pb4AhUDD6YKHWY8BdgQ1QJ6BAgFEAY\"><accordion-entry-search-icon><span class=\"ieB2Dd\"><img class=\"OEaqif\" alt=\"\" src=\"data:image/gif;base64,R0lGODlhAQABAIAAAP///////yH5BAEKAAEALAAAAAABAAEAAAICTAEAOw==\" style=\"max-width:20px;max-height:20px\" id=\"dimg_9\" data-deferred=\"1\"></span></accordion-entry-search-icon><div class=\"kjGX2\"><span><div class=\"BNeawe s3v9rd AP7Wnd lRVwie\">prolog&#20013;&#25991;</div></span></div></a></div></div><div class=\"x54gtf\"></div><div><div class=\"gGQDvd iIWm4b\"><a class=\"Q71vJc\" href=\"/search?ie=UTF-8&amp;q=SWI-Prolog&amp;sa=X&amp;ved=2ahUKEwj1ya6F7pb4AhUDD6YKHWY8BdgQ1QJ6BAgFEAg\"><accordion-entry-search-icon><span class=\"ieB2Dd\"><img class=\"OEaqif\" alt=\"\" src=\"data:image/gif;base64,R0lGODlhAQABAIAAAP///////yH5BAEKAAEALAAAAAABAAEAAAICTAEAOw==\" style=\"max-width:20px;max-height:20px\" id=\"dimg_13\" data-deferred=\"1\"></span></accordion-entry-search-icon><div class=\"kjGX2\"><span><div class=\"BNeawe s3v9rd AP7Wnd lRVwie\">SWI-Prolog</div></span></div></a></div></div><div class=\"x54gtf\"></div><div><div class=\"gGQDvd iIWm4b\"><a class=\"Q71vJc\" href=\"/search?ie=UTF-8&amp;q=prolog%E4%B8%8B%E8%BC%89&amp;sa=X&amp;ved=2ahUKEwj1ya6F7pb4AhUDD6YKHWY8BdgQ1QJ6BAgFEAo\"><accordion-entry-search-icon><span class=\"ieB2Dd\"><img class=\"OEaqif\" alt=\"\" src=\"data:image/gif;base64,R0lGODlhAQABAIAAAP///////yH5BAEKAAEALAAAAAABAAEAAAICTAEAOw==\" style=\"max-width:20px;max-height:20px\" id=\"dimg_17\" data-deferred=\"1\"></span></accordion-entry-search-icon><div class=\"kjGX2\"><span><div class=\"BNeawe s3v9rd AP7Wnd lRVwie\">prolog&#19979;&#36617;</div></span></div></a></div></div><div class=\"x54gtf\"></div><div><div class=\"gGQDvd iIWm4b\"><a class=\"Q71vJc\" href=\"/search?ie=UTF-8&amp;q=Prolog+PTT&amp;sa=X&amp;ved=2ahUKEwj1ya6F7pb4AhUDD6YKHWY8BdgQ1QJ6BAgFEAw\"><accordion-entry-search-icon><span class=\"ieB2Dd\"><img class=\"OEaqif\" alt=\"\" src=\"data:image/gif;base64,R0lGODlhAQABAIAAAP///////yH5BAEKAAEALAAAAAABAAEAAAICTAEAOw==\" style=\"max-width:20px;max-height:20px\" id=\"dimg_21\" data-deferred=\"1\"></span></accordion-entry-search-icon><div class=\"kjGX2\"><span><div class=\"BNeawe s3v9rd AP7Wnd lRVwie\">Prolog PTT</div></span></div></a></div></div><div class=\"x54gtf\"></div><div><div class=\"gGQDvd iIWm4b\"><a class=\"Q71vJc\" href=\"/search?ie=UTF-8&amp;q=prolog%E8%AA%9E%E6%B3%95&amp;sa=X&amp;ved=2ahUKEwj1ya6F7pb4AhUDD6YKHWY8BdgQ1QJ6BAgFEA4\"><accordion-entry-search-icon><span class=\"ieB2Dd\"><img class=\"OEaqif\" alt=\"\" src=\"data:image/gif;base64,R0lGODlhAQABAIAAAP///////yH5BAEKAAEALAAAAAABAAEAAAICTAEAOw==\" style=\"max-width:20px;max-height:20px\" id=\"dimg_23\" data-deferred=\"1\"></span></accordion-entry-search-icon><div class=\"kjGX2\"><span><div class=\"BNeawe s3v9rd AP7Wnd lRVwie\">prolog&#35486;&#27861;</div></span></div></a></div></div><div class=\"x54gtf\"></div><div><div class=\"gGQDvd iIWm4b\"><a class=\"Q71vJc\" href=\"/search?ie=UTF-8&amp;q=prolog%E8%AA%9E%E8%A8%80&amp;sa=X&amp;ved=2ahUKEwj1ya6F7pb4AhUDD6YKHWY8BdgQ1QJ6BAgFEBA\"><accordion-entry-search-icon><span class=\"ieB2Dd\"><img class=\"OEaqif\" alt=\"\" src=\"data:image/gif;base64,R0lGODlhAQABAIAAAP///////yH5BAEKAAEALAAAAAABAAEAAAICTAEAOw==\" style=\"max-width:20px;max-height:20px\" id=\"dimg_27\" data-deferred=\"1\"></span></accordion-entry-search-icon><div class=\"kjGX2\"><span><div class=\"BNeawe s3v9rd AP7Wnd lRVwie\">prolog&#35486;&#35328;</div></span></div></a></div></div></div></div><footer> <div>  <div class=\"ZINbbc xpd O9g5cc uUPGi BmP5tf\"><div class=\"nMymef MUxGbd lyLwlc\"><a class=\"nBDE1b G5eFlf\" href=\"/search?q=prolog&amp;ie=UTF-8&amp;ei=_eqcYrXXIoOemAXm-JTADQ&amp;start=10&amp;sa=N\" aria-label=\"&#19979;&#19968;&#38913;\">&#19979;&#19968;&#38913; &gt;</a></div></div> </div>  <div id=\"EOlPnc\"><div class=\"Srfpq\"><div><span class=\"EYqSq unknown_loc\"></span><span class=\"dfB0uf\">&#21488;&#28771;</span></div><span>&#26681;&#25818;&#20320;&#30340; IP &#20301;&#22336;</span><span>&nbsp;-&nbsp;</span><a href=\"/url?q=http://support.google.com/websearch%3Fp%3Dws_settings_location%26hl%3Dzh-TW&amp;sa=U&amp;ved=0ahUKEwj1ya6F7pb4AhUDD6YKHWY8BdgQty4IeQ&amp;usg=AOvVaw2kO8sUsYzzrXN0ujYXhH9r\">&#30637;&#35299;&#35443;&#24773;</a></div><div><a href=\"/url?q=https://accounts.google.com/ServiceLogin%3Fcontinue%3Dhttp://www.google.com/search%253Fq%253Dprolog%26hl%3Dzh-TW&amp;sa=U&amp;ved=0ahUKEwj1ya6F7pb4AhUDD6YKHWY8BdgQxs8CCHo&amp;usg=AOvVaw2wrR3XT1blOip8-xkvEjrP\">&#30331;&#20837;</a></div><div><a class=\"xeDNfc\" href=\"http://www.google.com/preferences?hl=zh-TW&amp;fg=1&amp;sa=X&amp;ved=0ahUKEwj1ya6F7pb4AhUDD6YKHWY8BdgQ5fUCCHs\">&#35373;&#23450;</a><a class=\"xeDNfc\" href=\"http://policies.google.com/privacy?hl=zh-TW&amp;fg=1\">&#38577;&#31169;&#27402;</a><a class=\"xeDNfc\" href=\"http://policies.google.com/terms?hl=zh-TW&amp;fg=1\">&#26381;&#21209;&#26781;&#27454;</a></div></div> </footer><script nonce=\"aoZpBMd2ipdtNY5Hv-vXgA\">(function(){var hl='zh-TW';(function(){\n",
            "var f=this||self,g=function(a){return a};\n",
            "var h,k=function(){if(void 0===h){var a=null,b=f.trustedTypes;if(b&&b.createPolicy){try{a=b.createPolicy(\"goog#html\",{createHTML:g,createScript:g,createScriptURL:g})}catch(c){f.console&&f.console.error(c.message)}h=a}else h=a}return h};var p=function(a,b){this.h=a===l&&b||\"\";this.g=m},q=function(a){return a instanceof p&&a.constructor===p&&a.g===m?a.h:\"type_error:Const\"},m={},l={};var t=function(a,b){this.g=b===r?a:\"\"};t.prototype.toString=function(){return this.g+\"\"};var u=function(a){return a instanceof t&&a.constructor===t?a.g:\"type_error:TrustedResourceUrl\"},y=function(){var a={},b=q(new p(l,\"/complete/search\"));if(!v.test(b))throw Error(\"a`\"+b);var c=b.replace(w,function(e,d){if(!Object.prototype.hasOwnProperty.call(a,d))throw Error(\"b`\"+d+\"`\"+b+\"`\"+JSON.stringify(a));e=a[d];return e instanceof p?q(e):encodeURIComponent(String(e))});return x(c)},w=/%{(\\w+)}/g,v=RegExp(\"^((https:)?//[0-9a-z.:[\\\\]-]+/|/[^/\\\\\\\\]|[^:/\\\\\\\\%]+/|[^:/\\\\\\\\%]*[?#]|about:blank#)\",\"i\"),z=/^([^?#]*)(\\?[^#]*)?(#[\\s\\S]*)?/,r={},x=function(a){var b=k();a=b?b.createScriptURL(a):a;return new t(a,r)},A=function(a,b,c){if(null==c)return b;if(\"string\"===typeof c)return c?a+encodeURIComponent(c):\"\";for(var e in c)if(Object.prototype.hasOwnProperty.call(c,e)){var d=c[e];d=Array.isArray(d)?d:[d];for(var n=0;n<d.length;n++){var P=d[n];null!=P&&(b||(b=a),b+=(b.length>a.length?\"&\":\"\")+encodeURIComponent(e)+\"=\"+encodeURIComponent(String(P)))}}return b};var B={},C=function(a,b,c){this.g=c===B?a:\"\"};C.prototype.toString=function(){return this.g.toString()};var D=function(a){var b=k();a=b?b.createHTML(a):a;return new C(a,null,B)};function E(a,b){if(void 0!==a.tagName){if(\"script\"===a.tagName.toLowerCase())throw Error(\"c\");if(\"style\"===a.tagName.toLowerCase())throw Error(\"d\");}a.innerHTML=b instanceof C&&b.constructor===C?b.g:\"type_error:SafeHtml\"};var F=document.querySelector(\".l\"),G=document.querySelector(\"#sf\"),H=G.querySelector(\".sbc\"),I=G.querySelector(\"[type=text]\"),J=G.querySelector(\"[type=submit]\"),K=G.querySelector(\".sc\"),L=G.querySelector(\".x\"),M=I.value,N=[],O=-1,Q=M,R,S,T;M||(L&&(L.style.display=\"none\"),U(!1));function U(a){if(H.classList.contains(\"esbc\")){var b=H.classList.contains(\"chsbc\"),c=H.classList.contains(\"rtlsbc\");a&&(K.style.display=\"block\",b?(G.style.borderRadius=\"20px 20px 0 0\",K.style.borderBottom=\"1px solid #DFE1E5\",J.style.borderRadius=c?\"20px 0 0 0\":\"0 20px 0 0\"):H.style.borderRadius=c?\"0 8px 0 0\":\"8px 0 0 0\");a||(K.style.display=\"none\",b?(G.style.borderRadius=\"20px\",K.style.borderBottom=\"none\",J.style.borderRadius=c?\"20px 0 0 20px\":\"0 20px 20px 0\"):H.style.borderRadius=c?\"0 8px 8px 0\":\"8px 0 0 8px\")}}function V(){G.querySelector(\"[name=oq]\").value=Q;G.querySelector(\"[name=aqs]\").value=\"heirloom-srp.\"+(0<=O?O:\"\")+\".\"+(0<N.length?\"0l\"+N.length:\"\")}\n",
            "function W(){R=null;if(S){var a={client:\"heirloom-srp\",hl:hl,json:\"t\",callback:\"hS\",q:S};\"undefined\"!==typeof ds&&ds&&(a.ds=ds);var b=document;var c=\"SCRIPT\";\"application/xhtml+xml\"===b.contentType&&(c=c.toLowerCase());c=b.createElement(c);b=y();b=z.exec(u(b).toString());var e=b[3]||\"\";a=x(b[1]+A(\"?\",b[2]||\"\",a)+A(\"#\",e));c.src=u(a);var d,n;(d=(a=null==(n=(d=(c.ownerDocument&&c.ownerDocument.defaultView||window).document).querySelector)?void 0:n.call(d,\"script[nonce]\"))?a.nonce||a.getAttribute(\"nonce\")||\n",
            "\"\":\"\")&&c.setAttribute(\"nonce\",d);document.body.appendChild(c);S=null;R=setTimeout(W,500)}}function X(){for(;K.firstChild;)K.removeChild(K.firstChild);N=[];O=-1;U(!1)}function Y(){var a=K.querySelector(\".scs\");a&&(a.className=\"\");0<=O?(a=K.childNodes[O],a.className=\"scs\",M=a.textContent):M=Q;I.value=M}I.addEventListener(\"focus\",function(){F&&(F.style.display=\"none\")},!1);I.addEventListener(\"blur\",function(){X();F&&(F.style.display=\"\")},!1);I.addEventListener(\"keyup\",function(a){M=I.value;T=!1;13===a.which?V():27===a.which?(X(),F&&(F.style.display=\"\"),M=Q,I.value=M):40===a.which?(O++,O>=N.length&&(O=-1),Y()):38===a.which?(O--,-1>O&&(O=N.length-1),Y()):(a=M)?(L&&(L.style.display=\"\"),S=a,R||W(),Q=a):(L&&(L.style.display=\"none\"),U(!1),X(),Q=\"\",T=!0)},!1);J.addEventListener(\"click\",V,!1);L.addEventListener(\"click\",function(){I.value=\"\";L.style.display=\"none\";U(!1)},!1);H.addEventListener(\"click\",function(){I.focus()},!1);window.hS=function(a){if(!T){X();0===a[1].length&&U(!1);for(var b=0;b<a[1].length;b++){var c=a[1][b][0],e=document.createElement(\"div\");E(e,D(c));e.addEventListener(\"mousedown\",function(d){d.preventDefault();return!1},!1);c=c.replace(/<\\/?b>/g,\"\");e.addEventListener(\"click\",function(d){return function(){O=d;V();Y();X();G.submit()}}(b),!1);e.addEventListener(\"mouseover\",function(d){return function(){O!==d&&(O=d,Y())}}(b),!1);K.appendChild(e);U(!0);N.push(c)}}};}).call(this);})();(function(){\n",
            "function b(a){for(a=a.target||a.srcElement;a&&\"A\"!==a.nodeName;)a=a.parentElement;a&&(a.href||\"\").match(/\\/search.*[?&]tbm=isch/)&&(a.href+=\"&biw=\"+document.documentElement.clientWidth,a.href+=\"&bih=\"+document.documentElement.clientHeight)}document.addEventListener(\"click\",b,!1);document.addEventListener(\"touchStart\",b,!1);}).call(this);</script></div><!-- cctlcm 5 cctlcm --><textarea class=\"csi\" name=\"csi\" style=\"display:none\"></textarea><script nonce=\"aoZpBMd2ipdtNY5Hv-vXgA\">(function(){var e='_eqcYrXXIoOemAXm-JTADQ';var sn='web';var timl=false;(function(){\n",
            "function y(a){if(!a||z(a))return 0;if(!a.getBoundingClientRect)return 1;var c=function(b){return b.getBoundingClientRect()};return A(a,c)?0:K(a,c)}function A(a,c){var b;a:{for(b=a;b&&null!==b;b=b.parentElement)if(\"hidden\"===b.style.overflow)break a;b=null}if(!b)return!1;a=c(a);c=c(b);return a.bottom<c.top||a.top>=c.bottom||a.right<c.left||a.left>=c.right}\n",
            "function z(a){return\"none\"===a.style.display?!0:document.defaultView&&document.defaultView.getComputedStyle?(a=document.defaultView.getComputedStyle(a),!!a&&(\"hidden\"===a.visibility||\"0px\"===a.height&&\"0px\"===a.width)):!1}\n",
            "function K(a,c){var b=c(a);a=b.left+window.pageXOffset;c=b.top+window.pageYOffset;var f=b.width;b=b.height;var g=0;if(0>=b&&0>=f)return g;var p=window.innerHeight||document.documentElement.clientHeight;0>c+b?g=2:c>=p&&(g=4);if(0>a+f||a>=(window.innerWidth||document.documentElement.clientWidth))g|=8;g||(g=1,c+b>p&&(g|=4));return g};var L=e,M=sn,N=\"undefined\"===typeof de?!0:!1!==de,O=[];function P(a,c,b){a=\"/gen_204?atyp=csi&s=\"+(M||\"web\")+\"&t=\"+a+(\"&lite=1&ei=\"+L+\"&conn=\"+(window.navigator&&window.navigator.connection?window.navigator.connection.type:-1)+c);c=\"&rt=\";for(var f in b)a+=\"\"+c+f+\".\"+b[f],c=\",\";return a}function Q(a){a={prt:a};window.wsrt&&(a.wsrt=window.wsrt);return a}function R(a){window.ping?window.ping(a):(new Image).src=a}\n",
            "(function(){for(var a=(new Date).getTime()-window.start,c=Q(a),b=0,f=0,g=0,p=document.getElementsByTagName(\"img\"),q=N?\"&biw=\"+window.innerWidth+\"&bih=\"+window.innerHeight:\"\",S=function(h,r){h.onload=function(){f=(new Date).getTime()-window.start;r&&++u==g&&(b=f,B());h.onload=null}},B=function(){q+=\"&ima=\"+g;c.aft=b;R(P(\"aft\",q,c))},u=0,T=0,d=void 0;d=p[T++];){var t=y(d),n=!!(t&1);n&&++g;var l=d.hasAttribute(\"data-ilite\"),v=d.hasAttribute(\"data-deferred\")||l,C=d.getAttribute(\"data-src\")||d.getAttribute(\"data-lzysrc\"),D=!v&&C;O.push([t,v,D,google.ldi&&d.id&&google.ldi[d.id]||l&&C]);l=(t=d.complete&&(l||!v&&!(n&&D)))&&Number(d.getAttribute(\"data-iml\"))||0;t&&l?(n&&++u,l&&(d=l-window.start,n&&(b=Math.max(b,d)),f=Math.max(f,d))):S(d,n)}b||(b=a);f||(f=b);u==g&&B();google.rglh&&google.rglh();window.addEventListener(\"load\",function(){window.setTimeout(function(){c.ol=(new Date).getTime()-window.start;timl&&(c.iml=f);var h=window.performance&&window.performance.timing;h&&(c.rqst=h.responseEnd-h.requestStart,c.rspt=h.responseEnd-\n",
            "h.responseStart);for(var r=h=0,E=0,F=0,G=0,H=0,U=0,k;k=O[U++];){var m=k[0],w=k[1],I=k[2];k=k[3];var V=0==m,x=m&8,J=m&4;(m=1==m||2==m||x&&!J)&&!x&&(w&&!k||++E,I&&++H);w&&(m&&k&&++h,J&&!k&&++r);V||x?I||++G:w||++F}q+=\"&ime=\"+E+\"&imel=\"+H+(\"&imex=\"+F+\"&imeh=\"+G)+(\"&imea=\"+h+\"&imeb=\"+r);R(P(\"all\",q,c))},0)},!1)})();}).call(this);})();</script><script nonce=\"aoZpBMd2ipdtNY5Hv-vXgA\">\n",
            "function _setImagesSrc(e,d){function f(b){b.onerror=function(){b.style.display=\"none\"};b.src=d}for(var g=0,a=void 0;a=e[g++];){var c=document.getElementById(a)||document.querySelector('img[data-iid=\"'+a+'\"]');c?(a=void 0,(null==(a=google.c)?0:a.setup)&&google.c.setup(c),f(c)):(google.iir=google.iir||{},google.iir[a]=d)}}\"undefined\"==typeof window.google&&(window.google={});</script><script nonce=\"aoZpBMd2ipdtNY5Hv-vXgA\">(function(){var s='data:image/jpeg;base64,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';var i=['dimg_7'];_setImagesSrc(i,s);})();</script><script nonce=\"aoZpBMd2ipdtNY5Hv-vXgA\">(function(){var s='data:image/png;base64,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\\x3d\\x3d';var i=['dimg_11'];_setImagesSrc(i,s);})();</script><script nonce=\"aoZpBMd2ipdtNY5Hv-vXgA\">(function(){var s='data:image/jpeg;base64,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';var i=['dimg_15'];_setImagesSrc(i,s);})();</script><script nonce=\"aoZpBMd2ipdtNY5Hv-vXgA\">(function(){var s='data:image/png;base64,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\\x3d';var i=['dimg_19'];_setImagesSrc(i,s);})();</script><script nonce=\"aoZpBMd2ipdtNY5Hv-vXgA\">(function(){var s='data:image/png;base64,iVBORw0KGgoAAAANSUhEUgAAABgAAAAYAgMAAACdGdVrAAAADFBMVEVMaXFChfRChfRChfT0tCPZAAAAA3RSTlMAgFJEkGxNAAAAL0lEQVR4AWPADxgdwBT3BTDF9AUiuhdC6WNK/v///y+UggrClSA07EWVglmEFwAA5eYSExeCwigAAAAASUVORK5CYII\\x3d';var i=['dimg_25'];_setImagesSrc(i,s);})();</script><script nonce=\"aoZpBMd2ipdtNY5Hv-vXgA\">(function(){var s='data:image/jpeg;base64,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\\x3d\\x3d';var i=['dimg_1'];_setImagesSrc(i,s);})();</script><script nonce=\"aoZpBMd2ipdtNY5Hv-vXgA\">(function(){var s='data:image/png;base64,iVBORw0KGgoAAAANSUhEUgAAABQAAAAUCAYAAACNiR0NAAABAUlEQVR4AWMYesChoYElLjkzPj4lY3d8csZjIL4MxPNjUzPcSTYsISFLAqj5NBD/h+LPQPwbiT87NCuLh2gDgRr2QzXuT0jNMoBYksARn5zuHJ+UcR0kB6RXE2VYXHJGOlTDZmzyIJcB5e+D1CSkZDgQNBAaZv+jU1JkcKpJygiGeZ0I76a/Byq8jU9NZFqaCNTA48SE33/iDcw8TIyBt0GKQTFN0Msp6f2EIyUpo57YSIlLSrMhIg0WCIBcCfXSdlzJBsheTHQ6jEnOUgEFOLaEDbMIlhZBOYrorAdJk+nroVnvPsSgdGdoOF7HZyhZ2XPoGQoqjbCpIbt0AiejIQMArVLI7k/DXFkAAAAASUVORK5CYII\\x3d';var i=['dimg_3','dimg_5','dimg_9','dimg_13','dimg_17','dimg_21','dimg_23','dimg_27'];_setImagesSrc(i,s);})();</script><script nonce=\"aoZpBMd2ipdtNY5Hv-vXgA\">(function(){var e='_eqcYrXXIoOemAXm-JTADQ';(function(){\n",
            "var a=e;2===(window.performance&&window.performance.navigation&&window.performance.navigation.type)&&window.ping(\"/gen_204?ct=backbutton&ei=\"+a);}).call(this);})();(function(){\n",
            "var b=[function(){google.tick&&google.tick(\"load\",\"dcl\")}];google.dclc=function(a){b.length?b.push(a):a()};function c(){for(var a=b.shift();a;)a(),a=b.shift()}window.addEventListener?(document.addEventListener(\"DOMContentLoaded\",c,!1),window.addEventListener(\"load\",c,!1)):window.attachEvent&&window.attachEvent(\"onload\",c);}).call(this);\n",
            "window.jsl=window.jsl||{};window.jsl.dh=function(a,b,f){try{var g=document.getElementById(a);if(g)g.innerHTML=b,f&&f();else{var c={id:a,script:String(!!f),milestone:String(google.jslm||0)};google.jsla&&(c.async=google.jsla);var h=a.indexOf(\"_\"),d=0<h?a.substring(0,h):\"\",k=document.createElement(\"div\");k.innerHTML=b;var e=k.children[0];if(e&&(c.tag=e.tagName,c[\"class\"]=String(e.className||null),c.name=String(e.getAttribute(\"jsname\")),d)){a=[];var l=document.querySelectorAll('[id^=\"'+d+'_\"]');for(b=0;b<l.length;++b)a.push(l[b].id);c.ids=a.join(\",\")}google.ml(Error(d?\"Missing ID with prefix \"+d:\"Missing ID\"),!1,c)}}catch(m){google.ml(m,!0,{\"jsl.dh\":!0})}};(function(){var x=false;\n",
            "google.jslm=x?2:1;})();(function(){(function(){google.csct={};google.csct.ps='AOvVaw267Wi_JnvvuPsttGNpj64R\\x26ust\\x3d1654537341606087';})();})();(function(){(function(){google.csct.rd=true;})();})();(function(){(function(){google.csct.rl=true;})();})();google.drty&&google.drty(undefined,true);</script></body></html>\n",
            "% halt\n"
          ]
        }
      ]
    },
    {
      "cell_type": "markdown",
      "source": [
        "### GET request to a free API\n",
        "\n",
        "Let's try a free public API listed in https://apipheny.io/free-api/  \n",
        "\n",
        "Using www.ipify.org we may be able to get the public IP address of our Google Colab runtime server! Now we'll be using the `http_client` library."
      ],
      "metadata": {
        "id": "lf8h_bzuM6gt"
      }
    },
    {
      "cell_type": "code",
      "source": [
        "%%writefile http-get-ip.pl\n",
        ":- use_module(library(http/http_client)).\n",
        "\n",
        "main :-\n",
        "  http_get('https://api.ipify.org', Response, []),\n",
        "  write('This Colab\\'s Runtime IP address is '), \n",
        "  write(Response)."
      ],
      "metadata": {
        "colab": {
          "base_uri": "https://localhost:8080/"
        },
        "id": "C1nFIiFCutzK",
        "outputId": "d6aa3719-9f90-4a0e-83c0-39751d5d883b"
      },
      "execution_count": null,
      "outputs": [
        {
          "output_type": "stream",
          "name": "stdout",
          "text": [
            "Writing http-get-ip.pl\n"
          ]
        }
      ]
    },
    {
      "cell_type": "code",
      "source": [
        "!swipl --quiet -s http-get-ip.pl -t \"main\""
      ],
      "metadata": {
        "colab": {
          "base_uri": "https://localhost:8080/"
        },
        "id": "y3dwG_rEvy2L",
        "outputId": "b317a381-fc47-4616-def5-fe72312f9c71"
      },
      "execution_count": null,
      "outputs": [
        {
          "output_type": "stream",
          "name": "stdout",
          "text": [
            "This Colab's Runtime IP address is 35.229.183.158"
          ]
        }
      ]
    },
    {
      "cell_type": "markdown",
      "source": [
        "### GET response in JSON format\n",
        "\n",
        "What if the GET request returns data in JSON format? Let's try another free public API which returns random Chuck Norris jokes 😄"
      ],
      "metadata": {
        "id": "N7spUxXdM-Im"
      }
    },
    {
      "cell_type": "code",
      "source": [
        "%%writefile http-get-joke-json1.pl\n",
        ":- use_module(library(http/http_client)).\n",
        "\n",
        "main :-\n",
        "  http_get('https://api.chucknorris.io/jokes/random?category=dev', List, []),\n",
        "  write(List)."
      ],
      "metadata": {
        "colab": {
          "base_uri": "https://localhost:8080/"
        },
        "id": "wStYnTgFxLPc",
        "outputId": "46ee2dca-b683-494e-8115-509bbd6ffd80"
      },
      "execution_count": null,
      "outputs": [
        {
          "output_type": "stream",
          "name": "stdout",
          "text": [
            "Writing http-get-joke-json1.pl\n"
          ]
        }
      ]
    },
    {
      "cell_type": "code",
      "source": [
        "!swipl --quiet -s http-get-joke-json1.pl -t \"main\""
      ],
      "metadata": {
        "colab": {
          "base_uri": "https://localhost:8080/"
        },
        "id": "zrK5c-t-xLlR",
        "outputId": "5f51932d-9fc4-461a-b820-2d3279401564"
      },
      "execution_count": null,
      "outputs": [
        {
          "output_type": "stream",
          "name": "stdout",
          "text": [
            "{\"categories\":[\"dev\"],\"created_at\":\"2020-01-05 13:42:19.324003\",\"icon_url\":\"https://assets.chucknorris.host/img/avatar/chuck-norris.png\",\"id\":\"ughqsstqtmihbbknicskaq\",\"updated_at\":\"2020-01-05 13:42:19.324003\",\"url\":\"https://api.chucknorris.io/jokes/ughqsstqtmihbbknicskaq\",\"value\":\"Chuck Norris doesn't needs try-catch, exceptions are too afraid to raise.\"}"
          ]
        }
      ]
    },
    {
      "cell_type": "markdown",
      "source": [
        "A classic use case is to parse the JSON response to get the fields we need. This can be easily done with the `http_json` library in SWI-Prolog. **When this library is loaded, the `http_get` predicate will give us a slightly different result. Could you spot the difference?**"
      ],
      "metadata": {
        "id": "VIpIANNxxXoo"
      }
    },
    {
      "cell_type": "code",
      "source": [
        "%%writefile http-get-joke-json2.pl\n",
        ":- use_module(library(http/http_client)).\n",
        ":- use_module(library(http/http_json)).\n",
        "\n",
        "main :-\n",
        "  http_get('https://api.chucknorris.io/jokes/random?category=dev', List, []),\n",
        "  write(List)."
      ],
      "metadata": {
        "colab": {
          "base_uri": "https://localhost:8080/"
        },
        "id": "R92cZ4pT0ZH5",
        "outputId": "ede85734-513a-499e-f58a-933e2b94a571"
      },
      "execution_count": null,
      "outputs": [
        {
          "output_type": "stream",
          "name": "stdout",
          "text": [
            "Writing http-get-joke-json2.pl\n"
          ]
        }
      ]
    },
    {
      "cell_type": "code",
      "source": [
        "!swipl --quiet -s http-get-joke-json2.pl -t \"main\""
      ],
      "metadata": {
        "colab": {
          "base_uri": "https://localhost:8080/"
        },
        "id": "vZ3d3mG10cxr",
        "outputId": "548dc73f-cb92-4877-ff36-8c0eae17117f"
      },
      "execution_count": null,
      "outputs": [
        {
          "output_type": "stream",
          "name": "stdout",
          "text": [
            "json([categories=[dev],created_at=2020-01-05 13:42:19.324003,icon_url=https://assets.chucknorris.host/img/avatar/chuck-norris.png,id=iy5n_afwrrqrj9wb6n21ww,updated_at=2020-01-05 13:42:19.324003,url=https://api.chucknorris.io/jokes/iy5n_afwrrqrj9wb6n21ww,value=Chuck Norris doesn't need garbage collection because he doesn't call .Dispose(), he calls .DropKick().])"
          ]
        }
      ]
    },
    {
      "cell_type": "markdown",
      "source": [
        "Now we are able to process the JSON response to get the `value` field containing the actual joke."
      ],
      "metadata": {
        "id": "3Pf2S8Ym0lAQ"
      }
    },
    {
      "cell_type": "code",
      "source": [
        "%%writefile http-get-joke.pl\n",
        ":- use_module(library(http/http_client)).\n",
        ":- use_module(library(http/http_json)).\n",
        "\n",
        "main :-\n",
        "  http_get('https://api.chucknorris.io/jokes/random?category=dev', json(List), []),\n",
        "  member(value=V, List),\n",
        "  write(V)."
      ],
      "metadata": {
        "colab": {
          "base_uri": "https://localhost:8080/"
        },
        "id": "z1oF7tlY1Lrc",
        "outputId": "d4100780-efbd-41e0-ed67-ec562745b189"
      },
      "execution_count": null,
      "outputs": [
        {
          "output_type": "stream",
          "name": "stdout",
          "text": [
            "Writing http-get-joke.pl\n"
          ]
        }
      ]
    },
    {
      "cell_type": "code",
      "source": [
        "!swipl --quiet -s http-get-joke.pl -t \"main\""
      ],
      "metadata": {
        "colab": {
          "base_uri": "https://localhost:8080/"
        },
        "id": "1c9pYBLn1OA-",
        "outputId": "b6ddb25c-3f8b-420b-8b01-d5b98cbef2f9"
      },
      "execution_count": null,
      "outputs": [
        {
          "output_type": "stream",
          "name": "stdout",
          "text": [
            "Chuck Norris can dereference NULL."
          ]
        }
      ]
    },
    {
      "cell_type": "markdown",
      "source": [
        "### Another GET request example"
      ],
      "metadata": {
        "id": "nx9lUU2r1QTL"
      }
    },
    {
      "cell_type": "markdown",
      "source": [
        "Let's combine two free public APIs:  ipify for getting our public IP address and ipinfo which gives IP address data. "
      ],
      "metadata": {
        "id": "p2YZ69iL1zdh"
      }
    },
    {
      "cell_type": "code",
      "source": [
        "%%writefile http-get-ipinfo.pl\n",
        ":- use_module(library(http/http_client)).\n",
        ":- use_module(library(http/http_json)).\n",
        "\n",
        "main :-\n",
        "  http_get('https://api.ipify.org/?format=json', json([ip=IP]), []),\n",
        "  atomic_list_concat(['https://ipinfo.io/', IP, '/geo'], Url),\n",
        "  http_get(Url, Json, []),\n",
        "  writeln('JSON Response:'),\n",
        "  writeln(Json),\n",
        "  Json = json(List), \n",
        "  member(country=Country, List), write('Country: '), writeln(Country),\n",
        "  member(region=Region, List), write('Region: '), writeln(Region),\n",
        "  member(city=City, List), write('City: '), writeln(City)."
      ],
      "metadata": {
        "colab": {
          "base_uri": "https://localhost:8080/"
        },
        "id": "iKkQml8b1rZm",
        "outputId": "2ab51435-0c2a-467a-d830-a61b14eb2cc3"
      },
      "execution_count": null,
      "outputs": [
        {
          "output_type": "stream",
          "name": "stdout",
          "text": [
            "Writing http-get-ipinfo.pl\n"
          ]
        }
      ]
    },
    {
      "cell_type": "code",
      "source": [
        "!swipl --quiet -s http-get-ipinfo.pl -t \"main\""
      ],
      "metadata": {
        "colab": {
          "base_uri": "https://localhost:8080/"
        },
        "id": "EsLq8c5T1u1j",
        "outputId": "ce1cbc81-a41d-4f45-b987-67411f6f51ab"
      },
      "execution_count": null,
      "outputs": [
        {
          "output_type": "stream",
          "name": "stdout",
          "text": [
            "JSON Response:\n",
            "json([ip=35.229.183.158,hostname=158.183.229.35.bc.googleusercontent.com,city=Taipei,region=Taiwan,country=TW,loc=25.0478,121.5319,org=AS396982 Google LLC,timezone=Asia/Taipei,readme=https://ipinfo.io/missingauth])\n",
            "Country: TW\n",
            "Region: Taiwan\n",
            "City: Taipei\n"
          ]
        }
      ]
    },
    {
      "cell_type": "markdown",
      "source": [
        "## Running HTTP servers"
      ],
      "metadata": {
        "id": "p67wXLRrHXy0"
      }
    },
    {
      "cell_type": "markdown",
      "source": [
        "This code from https://www.monolune.com/articles/web-programming-in-swi-prolog/ is an example HTTP server which returns `Hello` and a timestamp:"
      ],
      "metadata": {
        "id": "jk6ezAz53C6O"
      }
    },
    {
      "cell_type": "code",
      "execution_count": null,
      "metadata": {
        "id": "2oabAU6s4fEq"
      },
      "outputs": [],
      "source": [
        "%%writefile server.pl\n",
        "% https://www.monolune.com/articles/web-programming-in-swi-prolog/\n",
        "\n",
        ":- use_module(library(http/thread_httpd)).\n",
        ":- use_module(library(http/http_dispatch)).\n",
        ":- use_module(library(http/html_write)).\n",
        "\n",
        "% URL handlers.\n",
        ":- http_handler('/', handle_request, []).\n",
        "\n",
        "% Request handlers.\n",
        "handle_request(_Request) :-\n",
        "    get_time(X),  % X = seconds elapsed since the epoch.\n",
        "    reply_html_page(\n",
        "        [title('Hello')],\n",
        "        [h1('Hello'), p(X)]\n",
        "    ).\n",
        "\n",
        "server(Port) :-\n",
        "    http_server(http_dispatch, [port(Port)]).\n",
        "\n",
        ":- initialization(server(8000))."
      ]
    },
    {
      "cell_type": "markdown",
      "source": [
        "When SWI-Prolog loads this program, it calls the `initialization` predicate and prompts for more commands - but the interactive prompt blocks the code cell in Colab. Let's try to circunvent this limitation."
      ],
      "metadata": {
        "id": "fKYwv_7w3pJh"
      }
    },
    {
      "cell_type": "markdown",
      "source": [
        "This example from https://www.metalevel.at/letswicrypt/ also creates an HTTP server, but in this case the server runs as a daemon process (a background process without direct control of an interactive user). This prevents SWI-Prolog to run the interactive prompt."
      ],
      "metadata": {
        "id": "uuTnRvhN5uvE"
      }
    },
    {
      "cell_type": "code",
      "source": [
        "%%writefile serverdaemon.pl\n",
        "%https://www.metalevel.at/letswicrypt/\n",
        ":- use_module(library(http/http_unix_daemon)).\n",
        ":- use_module(library(http/thread_httpd)).\n",
        ":- use_module(library(http/http_dispatch)).\n",
        "\n",
        ":- http_handler(/, handle_request, [prefix]).\n",
        "\n",
        "handle_request(_Request) :-\n",
        "        format(\"Content-type: text/plain~n~n\"),\n",
        "        format(\"Hello!\")."
      ],
      "metadata": {
        "colab": {
          "base_uri": "https://localhost:8080/"
        },
        "id": "rGaJ4RCZ5kTW",
        "outputId": "d1445992-d28d-44b7-fbf0-c102df570b20"
      },
      "execution_count": null,
      "outputs": [
        {
          "output_type": "stream",
          "name": "stdout",
          "text": [
            "Writing serverdaemon.pl\n"
          ]
        }
      ]
    },
    {
      "cell_type": "markdown",
      "source": [
        "To run this example on Google Colab, we need to provide a port AND a username other than root (Google Colab default user is root, but running the server as root is not allowed). Fortunately, we are able to use the existing `daemon` user."
      ],
      "metadata": {
        "id": "QbMMZxfk7F9w"
      }
    },
    {
      "cell_type": "code",
      "source": [
        "!swipl serverdaemon.pl --port=8081 --user=daemon"
      ],
      "metadata": {
        "id": "To6xvcql8Gry"
      },
      "execution_count": null,
      "outputs": []
    },
    {
      "cell_type": "markdown",
      "source": [
        "Let's check if our server is actually running:"
      ],
      "metadata": {
        "id": "VvI4Lptt8wZT"
      }
    },
    {
      "cell_type": "code",
      "source": [
        "!ps -waux | grep swipl"
      ],
      "metadata": {
        "colab": {
          "base_uri": "https://localhost:8080/"
        },
        "id": "bAjcIqfa8Nse",
        "outputId": "78202872-47c4-4b00-80a8-2324f2d4323e"
      },
      "execution_count": null,
      "outputs": [
        {
          "output_type": "stream",
          "name": "stdout",
          "text": [
            "daemon      2899  0.0  0.0 142652 10568 ?        Ssl  17:46   0:00 swipl serverdaemon.pl --port=8081 --user=daemon\n",
            "root        2906  0.0  0.0  39200  6544 ?        S    17:46   0:00 /bin/bash -c ps -waux | grep swipl\n"
          ]
        }
      ]
    },
    {
      "cell_type": "markdown",
      "source": [
        "And we'll finally be able to test our server:"
      ],
      "metadata": {
        "id": "8ejo7ySw83kf"
      }
    },
    {
      "cell_type": "code",
      "source": [
        "!curl localhost:8081"
      ],
      "metadata": {
        "colab": {
          "base_uri": "https://localhost:8080/"
        },
        "id": "voAF_KAx8PvL",
        "outputId": "3318814b-2d4d-432d-dfc1-a3714e464ed9"
      },
      "execution_count": null,
      "outputs": [
        {
          "output_type": "stream",
          "name": "stdout",
          "text": [
            "Hello!"
          ]
        }
      ]
    },
    {
      "cell_type": "markdown",
      "source": [
        "## Where do we go from here?"
      ],
      "metadata": {
        "id": "dfmu3KWj8_6x"
      }
    },
    {
      "cell_type": "markdown",
      "source": [
        "This notebook shows it is possible to run SWI-Prolog HTTP client/server on Google Colab. Our goal is to show some interesting SWI-Prolog capabilities to beginner Prolog students, without requiring to install any software. "
      ],
      "metadata": {
        "id": "E6qhrz7o_Bju"
      }
    },
    {
      "cell_type": "markdown",
      "source": [
        "### More to try\n",
        "\n",
        "- Find a public API returning a JSON array, then parse it as a Prolog list. For example: http://universities.hipolabs.com/search?country=Brazil \n",
        "- Use the results from a public API to assert clauses in a Prolog database.\n",
        "- Use [`load_html`](https://www.swi-prolog.org/pldoc/man?predicate=load_html/3) and [`xpath`](https://www.swi-prolog.org/pldoc/man?predicate=xpath/3)  to parse and navigate HTML documents. \n",
        "\n",
        "- ...\n"
      ],
      "metadata": {
        "id": "ltmOLYJMAoNJ"
      }
    },
    {
      "cell_type": "markdown",
      "source": [
        "### Tutorials"
      ],
      "metadata": {
        "id": "yjeKRnngAoh9"
      }
    },
    {
      "cell_type": "markdown",
      "source": [
        "- [Creating Web Applications in SWI-Prolog](https://github.com/Anniepoo/swiplwebtut/blob/master/web.adoc) by Anne Ogborn. \n",
        "- [Prolog Web Applications](https://www.metalevel.at/prolog/web) by Markus Triska. The examples use Scryer Prolog, but most of them may also run on SWI-Prolog.\n",
        "- [Web scraping with Prolog](https://www.youtube.com/watch?v=zKrw-pRI9ac), video by Markus Triska.\n",
        "- [How to create a web service easily?](https://www.swi-prolog.org/howto/http/) by SWI-Prolog contributors."
      ],
      "metadata": {
        "id": "zjSjqfUPI-F8"
      }
    }
  ]
}